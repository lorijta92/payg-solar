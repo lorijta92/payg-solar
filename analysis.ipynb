{
 "cells": [
  {
   "cell_type": "code",
   "execution_count": 1,
   "metadata": {},
   "outputs": [],
   "source": [
    "import pandas as pd\n",
    "# import matplotlib.pyplot as plt"
   ]
  },
  {
   "cell_type": "code",
   "execution_count": 2,
   "metadata": {},
   "outputs": [],
   "source": [
    "# Read in data\n",
    "products = pd.read_csv(\"Resources/products.csv\")\n",
    "accounts = pd.read_csv(\"Resources/accounts.csv\")\n",
    "ast = pd.read_csv(\"Resources/account_state_transitions.csv\")\n",
    "gpa = pd.read_csv(\"Resources/group_product_associations.csv\")\n",
    "groups = pd.read_csv(\"Resources/groups.csv\")\n",
    "payments = pd.read_csv(\"Resources/payments.csv\")"
   ]
  },
  {
   "attachments": {},
   "cell_type": "markdown",
   "metadata": {},
   "source": [
    "## 1) Generate a bar chart visualizing the relative frequency of Products registered with Accounts."
   ]
  },
  {
   "cell_type": "code",
   "execution_count": null,
   "metadata": {},
   "outputs": [],
   "source": [
    "gpa = gpa.rename(columns={\"id\":\"gpa_id\"})\n",
    "accounts = accounts.rename(columns={\"id\":\"accounts_df_id\"})"
   ]
  },
  {
   "cell_type": "code",
   "execution_count": null,
   "metadata": {},
   "outputs": [],
   "source": [
    "# Merge accounts and gpa data frames\n",
    "group_id_merge = gpa.merge(accounts, how=\"inner\",on=\"group_id\")\n",
    "group_id_merge.head()"
   ]
  },
  {
   "cell_type": "code",
   "execution_count": null,
   "metadata": {},
   "outputs": [],
   "source": [
    "# Check w/ group by and manually\n",
    "df_product_registration = pd.DataFrame(group_id_merge['product_id'].value_counts())\n",
    "df_product_registration = df_product_registration.reset_index().sort_values('index')\n",
    "df_product_registration = df_product_registration.rename(columns={\"index\":\"product_id\",\"product_id\":\"registration_count\"})\n",
    "df_product_registration = df_product_registration.reset_index(drop=True)\n",
    "df_product_registration.head()"
   ]
  },
  {
   "cell_type": "code",
   "execution_count": null,
   "metadata": {},
   "outputs": [],
   "source": [
    "# Make Bar Chart -- tuples?"
   ]
  },
  {
   "cell_type": "markdown",
   "metadata": {},
   "source": [
    "## 2) Devise a method of generating a table of all Accounts with their State as of any arbitrary timestamp in the past and the total time they had been in that state as of the timestamp."
   ]
  },
  {
   "cell_type": "code",
   "execution_count": null,
   "metadata": {},
   "outputs": [],
   "source": []
  },
  {
   "cell_type": "markdown",
   "metadata": {},
   "source": [
    "## 3) Devise a method of generating a table of all Accounts with their cumulative payments to date as of any arbitrary timestamp in the past."
   ]
  },
  {
   "cell_type": "code",
   "execution_count": 4,
   "metadata": {
    "scrolled": true
   },
   "outputs": [
    {
     "data": {
      "text/html": [
       "<div>\n",
       "<style scoped>\n",
       "    .dataframe tbody tr th:only-of-type {\n",
       "        vertical-align: middle;\n",
       "    }\n",
       "\n",
       "    .dataframe tbody tr th {\n",
       "        vertical-align: top;\n",
       "    }\n",
       "\n",
       "    .dataframe thead th {\n",
       "        text-align: right;\n",
       "    }\n",
       "</style>\n",
       "<table border=\"1\" class=\"dataframe\">\n",
       "  <thead>\n",
       "    <tr style=\"text-align: right;\">\n",
       "      <th></th>\n",
       "      <th>id</th>\n",
       "      <th>effective_when</th>\n",
       "      <th>account_id</th>\n",
       "      <th>currency</th>\n",
       "      <th>amount</th>\n",
       "    </tr>\n",
       "  </thead>\n",
       "  <tbody>\n",
       "    <tr>\n",
       "      <th>0</th>\n",
       "      <td>1</td>\n",
       "      <td>2019-12-26 06:00:42.571392</td>\n",
       "      <td>1</td>\n",
       "      <td>KES</td>\n",
       "      <td>950</td>\n",
       "    </tr>\n",
       "    <tr>\n",
       "      <th>1</th>\n",
       "      <td>2</td>\n",
       "      <td>2019-12-26 06:00:42.571392</td>\n",
       "      <td>1</td>\n",
       "      <td>KES</td>\n",
       "      <td>950</td>\n",
       "    </tr>\n",
       "    <tr>\n",
       "      <th>2</th>\n",
       "      <td>3</td>\n",
       "      <td>2019-11-06 05:49:39.571392</td>\n",
       "      <td>2</td>\n",
       "      <td>KES</td>\n",
       "      <td>950</td>\n",
       "    </tr>\n",
       "    <tr>\n",
       "      <th>3</th>\n",
       "      <td>4</td>\n",
       "      <td>2019-11-06 05:49:39.571392</td>\n",
       "      <td>2</td>\n",
       "      <td>KES</td>\n",
       "      <td>950</td>\n",
       "    </tr>\n",
       "    <tr>\n",
       "      <th>4</th>\n",
       "      <td>5</td>\n",
       "      <td>2019-11-11 06:43:34.571392</td>\n",
       "      <td>2</td>\n",
       "      <td>KES</td>\n",
       "      <td>415</td>\n",
       "    </tr>\n",
       "  </tbody>\n",
       "</table>\n",
       "</div>"
      ],
      "text/plain": [
       "   id              effective_when  account_id currency  amount\n",
       "0   1  2019-12-26 06:00:42.571392           1      KES     950\n",
       "1   2  2019-12-26 06:00:42.571392           1      KES     950\n",
       "2   3  2019-11-06 05:49:39.571392           2      KES     950\n",
       "3   4  2019-11-06 05:49:39.571392           2      KES     950\n",
       "4   5  2019-11-11 06:43:34.571392           2      KES     415"
      ]
     },
     "execution_count": 4,
     "metadata": {},
     "output_type": "execute_result"
    }
   ],
   "source": [
    "payments.head()"
   ]
  },
  {
   "cell_type": "code",
   "execution_count": 28,
   "metadata": {},
   "outputs": [
    {
     "name": "stdout",
     "output_type": "stream",
     "text": [
      "Enter date with YYYY-MM-DD format.2019-12-26\n"
     ]
    }
   ],
   "source": [
    "# Variable to take timestamp input.\n",
    "timestamp = input(\"Enter date with YYYY-MM-DD format.\")"
   ]
  },
  {
   "cell_type": "code",
   "execution_count": 29,
   "metadata": {},
   "outputs": [],
   "source": [
    "# Convert variable from string to datetime object\n",
    "timestamp = pd.to_datetime(timestamp)\n",
    "# print(timestamp)\n",
    "# print(type(timestamp))"
   ]
  },
  {
   "cell_type": "code",
   "execution_count": 15,
   "metadata": {},
   "outputs": [
    {
     "data": {
      "text/plain": [
       "pandas._libs.tslibs.timestamps.Timestamp"
      ]
     },
     "execution_count": 15,
     "metadata": {},
     "output_type": "execute_result"
    }
   ],
   "source": [
    "# Check data type of date in 'effective_when'\n",
    "# type(payments['effective_when'][0])"
   ]
  },
  {
   "cell_type": "code",
   "execution_count": 16,
   "metadata": {},
   "outputs": [],
   "source": [
    "# Change data type from string to datetime object\n",
    "payments['effective_when'] = pd.to_datetime(payments['effective_when'])"
   ]
  },
  {
   "cell_type": "code",
   "execution_count": 17,
   "metadata": {},
   "outputs": [
    {
     "data": {
      "text/plain": [
       "pandas._libs.tslibs.timestamps.Timestamp"
      ]
     },
     "execution_count": 17,
     "metadata": {},
     "output_type": "execute_result"
    }
   ],
   "source": [
    "# Check data type of date in 'effective_when'\n",
    "# type(payments['effective_when'][0])"
   ]
  },
  {
   "cell_type": "code",
   "execution_count": 30,
   "metadata": {},
   "outputs": [
    {
     "data": {
      "text/plain": [
       "(4939, 5)"
      ]
     },
     "execution_count": 30,
     "metadata": {},
     "output_type": "execute_result"
    }
   ],
   "source": [
    "# Select rows containing indicated timestamp\n",
    "a = payments.loc[payments['effective_when'] >= timestamp]\n",
    "a.shape\n",
    "\n",
    "\n",
    "# a = payments[payments['effective_when'].str.contains(timestamp,case=False)] #if string contains\n",
    "# payments.sort_values('effective_when',ascending=False)"
   ]
  },
  {
   "cell_type": "code",
   "execution_count": null,
   "metadata": {},
   "outputs": [],
   "source": [
    "# 2020-01-05 = 4389,5\n",
    "# 2020-03-05 = 478,5\n",
    "# 2019-01-05 = 9452, 5\n",
    "# 2019-12-26 = 4939,5"
   ]
  },
  {
   "cell_type": "code",
   "execution_count": null,
   "metadata": {},
   "outputs": [],
   "source": [
    "# SELECT all rows WHERE effect_when[i][:10] == timestamp\n",
    "# group by account_id, sum currency for all rows >= DATE\n",
    "\n",
    "emptylist = []\n",
    "\n",
    "for item in payments['effective_when']: \n",
    "    date = item[:10]\n",
    "    if date == timestamp:\n",
    "        emptylist.append(date)\n",
    "#         print(payments['account_id'])"
   ]
  },
  {
   "cell_type": "code",
   "execution_count": null,
   "metadata": {},
   "outputs": [],
   "source": []
  },
  {
   "cell_type": "code",
   "execution_count": null,
   "metadata": {},
   "outputs": [],
   "source": []
  },
  {
   "cell_type": "code",
   "execution_count": null,
   "metadata": {},
   "outputs": [],
   "source": [
    "# Set currency\n",
    "currency = payments.currency[0]"
   ]
  },
  {
   "cell_type": "code",
   "execution_count": null,
   "metadata": {},
   "outputs": [],
   "source": [
    "# Group by account_id and count number of records\n",
    "num_payments = payments.groupby('account_id').count()\n",
    "\n",
    "# Flatten dataframe\n",
    "num_payments = num_payments.rename_axis(None, axis=1).reset_index()\n",
    "\n",
    "# Drop columns\n",
    "num_payments = num_payments.drop(columns=['effective_when','currency','amount'])\n",
    "\n",
    "# Rename column\n",
    "cumulative_payments = num_payments.rename(columns={\"id\":\"total_num_payments\"})\n",
    "cumulative_payments.head()"
   ]
  },
  {
   "cell_type": "code",
   "execution_count": null,
   "metadata": {},
   "outputs": [],
   "source": [
    "# Group by account_id and sum payment amounts\n",
    "sum_payments = payments.groupby('account_id').sum()\n",
    "\n",
    "# Sort values by id\n",
    "sum_payments = sum_payments.sort_values('id')\n",
    "\n",
    "# Flatten dataframe\n",
    "sum_payments = sum_payments.rename_axis(None, axis=1).reset_index()\n",
    "\n",
    "# Select one column\n",
    "sum_payments = sum_payments['amount']\n",
    "\n",
    "# Add series to cumulative_payments dataframe\n",
    "cumulative_payments[f'total_sum_payments_{currency}'] = sum_payments\n",
    "cumulative_payments.head()"
   ]
  },
  {
   "cell_type": "markdown",
   "metadata": {},
   "source": [
    "## 4) Devise a method of generating a table of all Accounts with their “nominal” expected payments as of any arbitrary timestamp in the past. In other words, we’re looking for the amount the distributor would have collected as of the test date assuming the client had paid the minimum payment instantaneously upon going to a “disabled” state until reaching the unlock price."
   ]
  },
  {
   "cell_type": "code",
   "execution_count": null,
   "metadata": {},
   "outputs": [],
   "source": []
  }
 ],
 "metadata": {
  "kernelspec": {
   "display_name": "Python 3",
   "language": "python",
   "name": "python3"
  },
  "language_info": {
   "codemirror_mode": {
    "name": "ipython",
    "version": 3
   },
   "file_extension": ".py",
   "mimetype": "text/x-python",
   "name": "python",
   "nbconvert_exporter": "python",
   "pygments_lexer": "ipython3",
   "version": "3.7.3"
  }
 },
 "nbformat": 4,
 "nbformat_minor": 2
}
