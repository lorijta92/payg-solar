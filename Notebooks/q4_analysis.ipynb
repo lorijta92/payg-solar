{
 "cells": [
  {
   "cell_type": "code",
   "execution_count": 1,
   "metadata": {},
   "outputs": [],
   "source": [
    "import pandas as pd\n",
    "from datetime import timedelta"
   ]
  },
  {
   "cell_type": "code",
   "execution_count": 2,
   "metadata": {},
   "outputs": [],
   "source": [
    "# Read in data\n",
    "accounts = pd.read_csv(\"../Resources/accounts.csv\")\n",
    "ast = pd.read_csv(\"../Resources/account_state_transitions.csv\")\n",
    "groups = pd.read_csv(\"../Resources/groups.csv\")"
   ]
  },
  {
   "cell_type": "markdown",
   "metadata": {},
   "source": [
    "## 4) Devise a method of generating a table of all Accounts with their “nominal” expected payments as of any arbitrary timestamp in the past. In other words, we’re looking for the amount the distributor would have collected as of the test date assuming the client had paid the minimum payment instantaneously upon going to a “disabled” state until reaching the unlock price."
   ]
  },
  {
   "cell_type": "markdown",
   "metadata": {},
   "source": [
    "## Merge Dataframes"
   ]
  },
  {
   "cell_type": "code",
   "execution_count": 3,
   "metadata": {},
   "outputs": [],
   "source": [
    "# Merge 'ast' and 'accounts' dataframes\n",
    "merged_df = pd.merge(left=ast, right=accounts, how='outer', left_on='account_id', right_on='id')\n",
    "\n",
    "# Limit columns\n",
    "merged_df = merged_df[['started_when','account_id','to_state','group_id']]\n",
    "merged_df.head()"
   ]
  },
  {
   "cell_type": "code",
   "execution_count": 4,
   "metadata": {},
   "outputs": [
    {
     "data": {
      "text/html": [
       "<div>\n",
       "<style scoped>\n",
       "    .dataframe tbody tr th:only-of-type {\n",
       "        vertical-align: middle;\n",
       "    }\n",
       "\n",
       "    .dataframe tbody tr th {\n",
       "        vertical-align: top;\n",
       "    }\n",
       "\n",
       "    .dataframe thead th {\n",
       "        text-align: right;\n",
       "    }\n",
       "</style>\n",
       "<table border=\"1\" class=\"dataframe\">\n",
       "  <thead>\n",
       "    <tr style=\"text-align: right;\">\n",
       "      <th></th>\n",
       "      <th>started_when</th>\n",
       "      <th>account_id</th>\n",
       "      <th>to_state</th>\n",
       "      <th>group_id</th>\n",
       "      <th>price_upfront</th>\n",
       "      <th>price_unlock</th>\n",
       "      <th>minimum_payment</th>\n",
       "    </tr>\n",
       "  </thead>\n",
       "  <tbody>\n",
       "    <tr>\n",
       "      <th>0</th>\n",
       "      <td>2019-11-06 05:49:39.571392</td>\n",
       "      <td>2</td>\n",
       "      <td>ENABLED</td>\n",
       "      <td>1</td>\n",
       "      <td>950</td>\n",
       "      <td>8100</td>\n",
       "      <td>71.5</td>\n",
       "    </tr>\n",
       "    <tr>\n",
       "      <th>1</th>\n",
       "      <td>2019-11-25 22:20:59.150339</td>\n",
       "      <td>2</td>\n",
       "      <td>DISABLED</td>\n",
       "      <td>1</td>\n",
       "      <td>950</td>\n",
       "      <td>8100</td>\n",
       "      <td>71.5</td>\n",
       "    </tr>\n",
       "    <tr>\n",
       "      <th>2</th>\n",
       "      <td>2019-11-26 10:22:36.571392</td>\n",
       "      <td>2</td>\n",
       "      <td>ENABLED</td>\n",
       "      <td>1</td>\n",
       "      <td>950</td>\n",
       "      <td>8100</td>\n",
       "      <td>71.5</td>\n",
       "    </tr>\n",
       "    <tr>\n",
       "      <th>3</th>\n",
       "      <td>2019-11-29 11:03:32.150339</td>\n",
       "      <td>2</td>\n",
       "      <td>DISABLED</td>\n",
       "      <td>1</td>\n",
       "      <td>950</td>\n",
       "      <td>8100</td>\n",
       "      <td>71.5</td>\n",
       "    </tr>\n",
       "    <tr>\n",
       "      <th>4</th>\n",
       "      <td>2019-12-03 10:08:03.571392</td>\n",
       "      <td>2</td>\n",
       "      <td>ENABLED</td>\n",
       "      <td>1</td>\n",
       "      <td>950</td>\n",
       "      <td>8100</td>\n",
       "      <td>71.5</td>\n",
       "    </tr>\n",
       "  </tbody>\n",
       "</table>\n",
       "</div>"
      ],
      "text/plain": [
       "                 started_when  account_id  to_state  group_id  price_upfront  \\\n",
       "0  2019-11-06 05:49:39.571392           2   ENABLED         1            950   \n",
       "1  2019-11-25 22:20:59.150339           2  DISABLED         1            950   \n",
       "2  2019-11-26 10:22:36.571392           2   ENABLED         1            950   \n",
       "3  2019-11-29 11:03:32.150339           2  DISABLED         1            950   \n",
       "4  2019-12-03 10:08:03.571392           2   ENABLED         1            950   \n",
       "\n",
       "   price_unlock  minimum_payment  \n",
       "0          8100             71.5  \n",
       "1          8100             71.5  \n",
       "2          8100             71.5  \n",
       "3          8100             71.5  \n",
       "4          8100             71.5  "
      ]
     },
     "execution_count": 4,
     "metadata": {},
     "output_type": "execute_result"
    }
   ],
   "source": [
    "# Merge with 'groups' dataframe\n",
    "merged_df = pd.merge(left=merged_df, right=groups, how='outer', left_on='group_id', right_on='id')\n",
    "\n",
    "# Limit columns\n",
    "merged_df = merged_df.drop(columns=['id','name','price_clock_hour'])\n",
    "merged_df.head()"
   ]
  },
  {
   "cell_type": "markdown",
   "metadata": {},
   "source": [
    "## Limit by Indicated Timestamp"
   ]
  },
  {
   "cell_type": "code",
   "execution_count": 5,
   "metadata": {},
   "outputs": [
    {
     "name": "stdout",
     "output_type": "stream",
     "text": [
      "Enter date with YYYY-MM-DD format.2020-03-01\n"
     ]
    }
   ],
   "source": [
    "# Variable to take timestamp input.\n",
    "timestamp_str = input(\"Enter date with YYYY-MM-DD format.\")"
   ]
  },
  {
   "cell_type": "code",
   "execution_count": 6,
   "metadata": {},
   "outputs": [],
   "source": [
    "# Convert variable from string to datetime object\n",
    "timestamp_dt = pd.to_datetime(timestamp_str)\n",
    "\n",
    "# Adjust timestamp to end of day\n",
    "timestamp_dt = timestamp_dt + timedelta(hours=23,minutes=59,seconds=59)"
   ]
  },
  {
   "cell_type": "code",
   "execution_count": 7,
   "metadata": {},
   "outputs": [],
   "source": [
    "# Change data type from string to datetime object\n",
    "merged_df['started_when'] = pd.to_datetime(merged_df['started_when'])"
   ]
  },
  {
   "cell_type": "code",
   "execution_count": 8,
   "metadata": {},
   "outputs": [],
   "source": [
    "# Create limited dataframe based on indicated timestamp and to_state\n",
    "merged_limited_df = merged_df.loc[(merged_df['started_when'] <= timestamp_dt) & (merged_df['to_state']=='DISABLED')]"
   ]
  },
  {
   "cell_type": "code",
   "execution_count": 9,
   "metadata": {},
   "outputs": [
    {
     "data": {
      "text/html": [
       "<div>\n",
       "<style scoped>\n",
       "    .dataframe tbody tr th:only-of-type {\n",
       "        vertical-align: middle;\n",
       "    }\n",
       "\n",
       "    .dataframe tbody tr th {\n",
       "        vertical-align: top;\n",
       "    }\n",
       "\n",
       "    .dataframe thead th {\n",
       "        text-align: right;\n",
       "    }\n",
       "</style>\n",
       "<table border=\"1\" class=\"dataframe\">\n",
       "  <thead>\n",
       "    <tr style=\"text-align: right;\">\n",
       "      <th></th>\n",
       "      <th>started_when</th>\n",
       "      <th>account_id</th>\n",
       "      <th>to_state</th>\n",
       "      <th>group_id</th>\n",
       "      <th>price_upfront</th>\n",
       "      <th>price_unlock</th>\n",
       "      <th>minimum_payment</th>\n",
       "    </tr>\n",
       "  </thead>\n",
       "  <tbody>\n",
       "    <tr>\n",
       "      <th>1</th>\n",
       "      <td>2019-11-25 22:20:59.150339</td>\n",
       "      <td>2</td>\n",
       "      <td>DISABLED</td>\n",
       "      <td>1</td>\n",
       "      <td>950</td>\n",
       "      <td>8100</td>\n",
       "      <td>71.5</td>\n",
       "    </tr>\n",
       "    <tr>\n",
       "      <th>3</th>\n",
       "      <td>2019-11-29 11:03:32.150339</td>\n",
       "      <td>2</td>\n",
       "      <td>DISABLED</td>\n",
       "      <td>1</td>\n",
       "      <td>950</td>\n",
       "      <td>8100</td>\n",
       "      <td>71.5</td>\n",
       "    </tr>\n",
       "    <tr>\n",
       "      <th>5</th>\n",
       "      <td>2019-12-06 06:44:56.624024</td>\n",
       "      <td>2</td>\n",
       "      <td>DISABLED</td>\n",
       "      <td>1</td>\n",
       "      <td>950</td>\n",
       "      <td>8100</td>\n",
       "      <td>71.5</td>\n",
       "    </tr>\n",
       "    <tr>\n",
       "      <th>7</th>\n",
       "      <td>2019-12-12 11:56:56.518760</td>\n",
       "      <td>2</td>\n",
       "      <td>DISABLED</td>\n",
       "      <td>1</td>\n",
       "      <td>950</td>\n",
       "      <td>8100</td>\n",
       "      <td>71.5</td>\n",
       "    </tr>\n",
       "    <tr>\n",
       "      <th>9</th>\n",
       "      <td>2019-12-18 11:33:11.202971</td>\n",
       "      <td>2</td>\n",
       "      <td>DISABLED</td>\n",
       "      <td>1</td>\n",
       "      <td>950</td>\n",
       "      <td>8100</td>\n",
       "      <td>71.5</td>\n",
       "    </tr>\n",
       "  </tbody>\n",
       "</table>\n",
       "</div>"
      ],
      "text/plain": [
       "                started_when  account_id  to_state  group_id  price_upfront  \\\n",
       "1 2019-11-25 22:20:59.150339           2  DISABLED         1            950   \n",
       "3 2019-11-29 11:03:32.150339           2  DISABLED         1            950   \n",
       "5 2019-12-06 06:44:56.624024           2  DISABLED         1            950   \n",
       "7 2019-12-12 11:56:56.518760           2  DISABLED         1            950   \n",
       "9 2019-12-18 11:33:11.202971           2  DISABLED         1            950   \n",
       "\n",
       "   price_unlock  minimum_payment  \n",
       "1          8100             71.5  \n",
       "3          8100             71.5  \n",
       "5          8100             71.5  \n",
       "7          8100             71.5  \n",
       "9          8100             71.5  "
      ]
     },
     "execution_count": 9,
     "metadata": {},
     "output_type": "execute_result"
    }
   ],
   "source": [
    "merged_limited_df.head()"
   ]
  },
  {
   "cell_type": "code",
   "execution_count": null,
   "metadata": {},
   "outputs": [],
   "source": [
    "# Group by account and count the occurrences of \"DISABLED\" state \n",
    "disabled_grouped_df = disabled_limited_df.groupby('account_id',as_index=False).agg({\n",
    "    'to_state':'count',\n",
    "    'price_upfront':'max',\n",
    "    'price_unlock':'max',\n",
    "    'minimum_payment':'max',})\n",
    "\n",
    "# Rename column\n",
    "disabled_grouped_df = disabled_grouped_df.rename(columns={'to_state':'count_disabled'})\n",
    "disabled_grouped_df.head()"
   ]
  },
  {
   "cell_type": "code",
   "execution_count": null,
   "metadata": {},
   "outputs": [],
   "source": [
    "# Calculate nominal expected payment\n",
    "expected_payment = (disabled_grouped_df['count_disabled']*disabled_grouped_df['minimum_payment']) + disabled_grouped_df['price_upfront']"
   ]
  },
  {
   "cell_type": "code",
   "execution_count": null,
   "metadata": {},
   "outputs": [],
   "source": [
    "# Make new dataframe with account_id and expected_payment\n",
    "df = pd.DataFrame({'account_id':disabled_grouped_df['account_id'],\n",
    "                  f'expected_payment_as_of_{timestamp_str}':expected_payment})\n",
    "\n",
    "# Preview dataframe\n",
    "print(f\"NOMINAL EXPECTED PAYMENTS BY ACCOUNT AS OF: {timestamp_str[:10]}\")\n",
    "df.head()"
   ]
  },
  {
   "cell_type": "code",
   "execution_count": null,
   "metadata": {},
   "outputs": [],
   "source": [
    "# Export to csv\n",
    "df.to_csv(f\"../Output/nominal_expected_payments_as_of_{timestamp_str[:10]}.csv\", index=False)"
   ]
  }
 ],
 "metadata": {
  "kernelspec": {
   "display_name": "Python 3",
   "language": "python",
   "name": "python3"
  },
  "language_info": {
   "codemirror_mode": {
    "name": "ipython",
    "version": 3
   },
   "file_extension": ".py",
   "mimetype": "text/x-python",
   "name": "python",
   "nbconvert_exporter": "python",
   "pygments_lexer": "ipython3",
   "version": "3.7.3"
  }
 },
 "nbformat": 4,
 "nbformat_minor": 2
}
