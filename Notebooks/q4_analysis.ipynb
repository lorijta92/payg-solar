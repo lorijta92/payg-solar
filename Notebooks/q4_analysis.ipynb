{
 "cells": [
  {
   "cell_type": "code",
   "execution_count": 59,
   "metadata": {},
   "outputs": [],
   "source": [
    "import pandas as pd\n",
    "from datetime import timedelta"
   ]
  },
  {
   "cell_type": "code",
   "execution_count": 60,
   "metadata": {},
   "outputs": [],
   "source": [
    "# Read in data\n",
    "# products = pd.read_csv(\"../Resources/products.csv\")\n",
    "accounts = pd.read_csv(\"../Resources/accounts.csv\")\n",
    "ast = pd.read_csv(\"../Resources/account_state_transitions.csv\")\n",
    "# gpa = pd.read_csv(\"../Resources/group_product_associations.csv\")\n",
    "groups = pd.read_csv(\"../Resources/groups.csv\")\n",
    "# payments = pd.read_csv(\"../Resources/payments.csv\")"
   ]
  },
  {
   "cell_type": "markdown",
   "metadata": {},
   "source": [
    "## 4) Devise a method of generating a table of all Accounts with their “nominal” expected payments as of any arbitrary timestamp in the past. In other words, we’re looking for the amount the distributor would have collected as of the test date assuming the client had paid the minimum payment instantaneously upon going to a “disabled” state until reaching the unlock price."
   ]
  },
  {
   "cell_type": "code",
   "execution_count": null,
   "metadata": {},
   "outputs": [],
   "source": [
    "# groups.head()"
   ]
  },
  {
   "cell_type": "code",
   "execution_count": 61,
   "metadata": {
    "scrolled": true
   },
   "outputs": [],
   "source": [
    "# Create new column with the number of payments needed to pay the 'price_unlock' amount if the minimum payment was made each time.\n",
    "groups['max_num_payments'] = (groups['price_unlock'] - groups['price_upfront']) / groups['minimum_payment']\n",
    "# groups.head()"
   ]
  },
  {
   "cell_type": "markdown",
   "metadata": {},
   "source": [
    "### amount the distributor would have collected as of the test date assuming the client had paid the minimum payment instantaneously upon going to a “disabled” state until reaching the unlock price."
   ]
  },
  {
   "cell_type": "markdown",
   "metadata": {},
   "source": [
    "* merge groups_df w/ ast_df (may need to look at payments_df?)\n",
    "* merge several: ast account_id to find product_id\n",
    "* Count number of times each account has gone into disabled\n",
    "* Count of times disabed TIMES(*) min payment + down payment"
   ]
  },
  {
   "cell_type": "markdown",
   "metadata": {},
   "source": [
    "## Merge Dataframes"
   ]
  },
  {
   "cell_type": "code",
   "execution_count": 62,
   "metadata": {},
   "outputs": [
    {
     "data": {
      "text/html": [
       "<div>\n",
       "<style scoped>\n",
       "    .dataframe tbody tr th:only-of-type {\n",
       "        vertical-align: middle;\n",
       "    }\n",
       "\n",
       "    .dataframe tbody tr th {\n",
       "        vertical-align: top;\n",
       "    }\n",
       "\n",
       "    .dataframe thead th {\n",
       "        text-align: right;\n",
       "    }\n",
       "</style>\n",
       "<table border=\"1\" class=\"dataframe\">\n",
       "  <thead>\n",
       "    <tr style=\"text-align: right;\">\n",
       "      <th></th>\n",
       "      <th>started_when</th>\n",
       "      <th>account_id</th>\n",
       "      <th>to_state</th>\n",
       "      <th>group_id</th>\n",
       "      <th>is_written_off</th>\n",
       "      <th>is_unlocked</th>\n",
       "    </tr>\n",
       "  </thead>\n",
       "  <tbody>\n",
       "    <tr>\n",
       "      <th>0</th>\n",
       "      <td>2019-11-06 05:49:39.571392</td>\n",
       "      <td>2.0</td>\n",
       "      <td>ENABLED</td>\n",
       "      <td>1.0</td>\n",
       "      <td>False</td>\n",
       "      <td>False</td>\n",
       "    </tr>\n",
       "    <tr>\n",
       "      <th>1</th>\n",
       "      <td>2019-11-25 22:20:59.150339</td>\n",
       "      <td>2.0</td>\n",
       "      <td>DISABLED</td>\n",
       "      <td>1.0</td>\n",
       "      <td>False</td>\n",
       "      <td>True</td>\n",
       "    </tr>\n",
       "    <tr>\n",
       "      <th>2</th>\n",
       "      <td>2019-11-26 10:22:36.571392</td>\n",
       "      <td>2.0</td>\n",
       "      <td>ENABLED</td>\n",
       "      <td>1.0</td>\n",
       "      <td>False</td>\n",
       "      <td>False</td>\n",
       "    </tr>\n",
       "    <tr>\n",
       "      <th>3</th>\n",
       "      <td>2019-11-29 11:03:32.150339</td>\n",
       "      <td>2.0</td>\n",
       "      <td>DISABLED</td>\n",
       "      <td>1.0</td>\n",
       "      <td>False</td>\n",
       "      <td>True</td>\n",
       "    </tr>\n",
       "    <tr>\n",
       "      <th>4</th>\n",
       "      <td>2019-12-03 10:08:03.571392</td>\n",
       "      <td>2.0</td>\n",
       "      <td>ENABLED</td>\n",
       "      <td>1.0</td>\n",
       "      <td>False</td>\n",
       "      <td>False</td>\n",
       "    </tr>\n",
       "  </tbody>\n",
       "</table>\n",
       "</div>"
      ],
      "text/plain": [
       "                 started_when  account_id  to_state  group_id is_written_off  \\\n",
       "0  2019-11-06 05:49:39.571392         2.0   ENABLED       1.0          False   \n",
       "1  2019-11-25 22:20:59.150339         2.0  DISABLED       1.0          False   \n",
       "2  2019-11-26 10:22:36.571392         2.0   ENABLED       1.0          False   \n",
       "3  2019-11-29 11:03:32.150339         2.0  DISABLED       1.0          False   \n",
       "4  2019-12-03 10:08:03.571392         2.0   ENABLED       1.0          False   \n",
       "\n",
       "  is_unlocked  \n",
       "0       False  \n",
       "1        True  \n",
       "2       False  \n",
       "3        True  \n",
       "4       False  "
      ]
     },
     "execution_count": 62,
     "metadata": {},
     "output_type": "execute_result"
    }
   ],
   "source": [
    "# Merge 'ast' and 'accounts' dataframes\n",
    "merged_df = pd.merge(ast, accounts, how='outer')\n",
    "\n",
    "# Limit columns\n",
    "merged_df = merged_df[['started_when','account_id','to_state','group_id','is_written_off','is_unlocked']]\n",
    "merged_df.head()"
   ]
  },
  {
   "cell_type": "code",
   "execution_count": 63,
   "metadata": {},
   "outputs": [
    {
     "data": {
      "text/html": [
       "<div>\n",
       "<style scoped>\n",
       "    .dataframe tbody tr th:only-of-type {\n",
       "        vertical-align: middle;\n",
       "    }\n",
       "\n",
       "    .dataframe tbody tr th {\n",
       "        vertical-align: top;\n",
       "    }\n",
       "\n",
       "    .dataframe thead th {\n",
       "        text-align: right;\n",
       "    }\n",
       "</style>\n",
       "<table border=\"1\" class=\"dataframe\">\n",
       "  <thead>\n",
       "    <tr style=\"text-align: right;\">\n",
       "      <th></th>\n",
       "      <th>started_when</th>\n",
       "      <th>account_id</th>\n",
       "      <th>to_state</th>\n",
       "      <th>group_id</th>\n",
       "      <th>is_written_off</th>\n",
       "      <th>is_unlocked</th>\n",
       "      <th>price_upfront</th>\n",
       "      <th>price_unlock</th>\n",
       "      <th>minimum_payment</th>\n",
       "      <th>max_num_payments</th>\n",
       "    </tr>\n",
       "  </thead>\n",
       "  <tbody>\n",
       "    <tr>\n",
       "      <th>0</th>\n",
       "      <td>2019-11-06 05:49:39.571392</td>\n",
       "      <td>2.0</td>\n",
       "      <td>ENABLED</td>\n",
       "      <td>1.0</td>\n",
       "      <td>False</td>\n",
       "      <td>False</td>\n",
       "      <td>950.0</td>\n",
       "      <td>8100.0</td>\n",
       "      <td>71.5</td>\n",
       "      <td>100.0</td>\n",
       "    </tr>\n",
       "    <tr>\n",
       "      <th>1</th>\n",
       "      <td>2019-11-25 22:20:59.150339</td>\n",
       "      <td>2.0</td>\n",
       "      <td>DISABLED</td>\n",
       "      <td>1.0</td>\n",
       "      <td>False</td>\n",
       "      <td>True</td>\n",
       "      <td>950.0</td>\n",
       "      <td>8100.0</td>\n",
       "      <td>71.5</td>\n",
       "      <td>100.0</td>\n",
       "    </tr>\n",
       "    <tr>\n",
       "      <th>2</th>\n",
       "      <td>2019-11-26 10:22:36.571392</td>\n",
       "      <td>2.0</td>\n",
       "      <td>ENABLED</td>\n",
       "      <td>1.0</td>\n",
       "      <td>False</td>\n",
       "      <td>False</td>\n",
       "      <td>950.0</td>\n",
       "      <td>8100.0</td>\n",
       "      <td>71.5</td>\n",
       "      <td>100.0</td>\n",
       "    </tr>\n",
       "    <tr>\n",
       "      <th>3</th>\n",
       "      <td>2019-11-29 11:03:32.150339</td>\n",
       "      <td>2.0</td>\n",
       "      <td>DISABLED</td>\n",
       "      <td>1.0</td>\n",
       "      <td>False</td>\n",
       "      <td>True</td>\n",
       "      <td>950.0</td>\n",
       "      <td>8100.0</td>\n",
       "      <td>71.5</td>\n",
       "      <td>100.0</td>\n",
       "    </tr>\n",
       "    <tr>\n",
       "      <th>4</th>\n",
       "      <td>2019-12-03 10:08:03.571392</td>\n",
       "      <td>2.0</td>\n",
       "      <td>ENABLED</td>\n",
       "      <td>1.0</td>\n",
       "      <td>False</td>\n",
       "      <td>False</td>\n",
       "      <td>950.0</td>\n",
       "      <td>8100.0</td>\n",
       "      <td>71.5</td>\n",
       "      <td>100.0</td>\n",
       "    </tr>\n",
       "  </tbody>\n",
       "</table>\n",
       "</div>"
      ],
      "text/plain": [
       "                 started_when  account_id  to_state  group_id is_written_off  \\\n",
       "0  2019-11-06 05:49:39.571392         2.0   ENABLED       1.0          False   \n",
       "1  2019-11-25 22:20:59.150339         2.0  DISABLED       1.0          False   \n",
       "2  2019-11-26 10:22:36.571392         2.0   ENABLED       1.0          False   \n",
       "3  2019-11-29 11:03:32.150339         2.0  DISABLED       1.0          False   \n",
       "4  2019-12-03 10:08:03.571392         2.0   ENABLED       1.0          False   \n",
       "\n",
       "  is_unlocked  price_upfront  price_unlock  minimum_payment  max_num_payments  \n",
       "0       False          950.0        8100.0             71.5             100.0  \n",
       "1        True          950.0        8100.0             71.5             100.0  \n",
       "2       False          950.0        8100.0             71.5             100.0  \n",
       "3        True          950.0        8100.0             71.5             100.0  \n",
       "4       False          950.0        8100.0             71.5             100.0  "
      ]
     },
     "execution_count": 63,
     "metadata": {},
     "output_type": "execute_result"
    }
   ],
   "source": [
    "# Merge groups dataframe\n",
    "merged_df = pd.merge(left=merged_df, right=groups, how='outer', left_on='group_id', right_on='id')\n",
    "\n",
    "# Limit columns\n",
    "merged_df = merged_df.drop(columns=['id','name','price_clock_hour'])\n",
    "merged_df.head()"
   ]
  },
  {
   "cell_type": "markdown",
   "metadata": {},
   "source": [
    "## Limit by Indicated Timestamp"
   ]
  },
  {
   "cell_type": "code",
   "execution_count": null,
   "metadata": {},
   "outputs": [],
   "source": [
    "# Variable to take timestamp input.\n",
    "timestamp_str = input(\"Enter date with YYYY-MM-DD format.\")"
   ]
  },
  {
   "cell_type": "code",
   "execution_count": null,
   "metadata": {},
   "outputs": [],
   "source": [
    "# Convert variable from string to datetime object\n",
    "timestamp_dt = pd.to_datetime(timestamp_str)\n",
    "\n",
    "# Adjust timestamp to end of day\n",
    "timestamp_dt = timestamp_dt + timedelta(hours=23,minutes=59,seconds=59)"
   ]
  },
  {
   "cell_type": "code",
   "execution_count": null,
   "metadata": {},
   "outputs": [],
   "source": [
    "# Change data type from string to datetime object\n",
    "merged_df['started_when'] = pd.to_datetime(merged_df['started_when'])"
   ]
  },
  {
   "cell_type": "code",
   "execution_count": null,
   "metadata": {},
   "outputs": [],
   "source": [
    "# Create limited dataframe based on indicated timestamp \n",
    "merged_limited_df = merged_df.loc[merged_df['started_when'] <= timestamp_dt]"
   ]
  },
  {
   "cell_type": "code",
   "execution_count": null,
   "metadata": {},
   "outputs": [],
   "source": [
    "# Accout_ID 1 = Group_ID 1 = price_upfront 950 = price_unlock 8100, min_payment 71.5\n",
    "merged_limited_df.sort_values('account_id', ascending=True)"
   ]
  },
  {
   "cell_type": "code",
   "execution_count": null,
   "metadata": {},
   "outputs": [],
   "source": [
    "merged_limited_df.account_id.value_counts()"
   ]
  },
  {
   "cell_type": "code",
   "execution_count": null,
   "metadata": {},
   "outputs": [],
   "source": []
  }
 ],
 "metadata": {
  "kernelspec": {
   "display_name": "Python 3",
   "language": "python",
   "name": "python3"
  },
  "language_info": {
   "codemirror_mode": {
    "name": "ipython",
    "version": 3
   },
   "file_extension": ".py",
   "mimetype": "text/x-python",
   "name": "python",
   "nbconvert_exporter": "python",
   "pygments_lexer": "ipython3",
   "version": "3.7.3"
  }
 },
 "nbformat": 4,
 "nbformat_minor": 2
}
