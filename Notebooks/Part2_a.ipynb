{
 "cells": [
  {
   "cell_type": "code",
   "execution_count": 1,
   "metadata": {},
   "outputs": [],
   "source": [
    "import pandas as pd\n",
    "import matplotlib.pyplot as plt"
   ]
  },
  {
   "cell_type": "markdown",
   "metadata": {},
   "source": [
    "# Overview\n",
    "* Table of the current status of each account\n",
    "* Bar chart of the total count of each account status\n",
    "* Pie chart of the proportional distribution of each account status \n",
    "* Number of accounts registered over time"
   ]
  },
  {
   "cell_type": "code",
   "execution_count": 2,
   "metadata": {},
   "outputs": [],
   "source": [
    "ast = pd.read_csv(\"../Resources/account_state_transitions.csv\")\n",
    "ast = ast.iloc[:,2:6]"
   ]
  },
  {
   "cell_type": "code",
   "execution_count": 3,
   "metadata": {},
   "outputs": [],
   "source": [
    "# Sort by account_id and date\n",
    "ast = ast.sort_values(['account_id','started_when'])\n",
    "\n",
    "# Reset index\n",
    "ast = ast.reset_index(drop=True)"
   ]
  },
  {
   "cell_type": "code",
   "execution_count": 4,
   "metadata": {},
   "outputs": [],
   "source": [
    "# Group by account_id, find most recent date and corresponding state\n",
    "ast_grouped = ast.groupby('account_id',as_index=False).agg({\n",
    "    'started_when':'max',\n",
    "    'to_state':'last'\n",
    "})"
   ]
  },
  {
   "cell_type": "code",
   "execution_count": 5,
   "metadata": {
    "scrolled": true
   },
   "outputs": [
    {
     "data": {
      "text/html": [
       "<div>\n",
       "<style scoped>\n",
       "    .dataframe tbody tr th:only-of-type {\n",
       "        vertical-align: middle;\n",
       "    }\n",
       "\n",
       "    .dataframe tbody tr th {\n",
       "        vertical-align: top;\n",
       "    }\n",
       "\n",
       "    .dataframe thead th {\n",
       "        text-align: right;\n",
       "    }\n",
       "</style>\n",
       "<table border=\"1\" class=\"dataframe\">\n",
       "  <thead>\n",
       "    <tr style=\"text-align: right;\">\n",
       "      <th></th>\n",
       "      <th>account_id</th>\n",
       "      <th>started_when</th>\n",
       "      <th>to_state</th>\n",
       "    </tr>\n",
       "  </thead>\n",
       "  <tbody>\n",
       "    <tr>\n",
       "      <th>0</th>\n",
       "      <td>1</td>\n",
       "      <td>2020-01-17 13:01:20.571392</td>\n",
       "      <td>DISABLED</td>\n",
       "    </tr>\n",
       "    <tr>\n",
       "      <th>1</th>\n",
       "      <td>2</td>\n",
       "      <td>2020-02-24 02:00:21.571392</td>\n",
       "      <td>UNLOCKED</td>\n",
       "    </tr>\n",
       "    <tr>\n",
       "      <th>2</th>\n",
       "      <td>3</td>\n",
       "      <td>2020-03-17 22:22:55.571392</td>\n",
       "      <td>DISABLED</td>\n",
       "    </tr>\n",
       "    <tr>\n",
       "      <th>3</th>\n",
       "      <td>4</td>\n",
       "      <td>2020-02-25 04:28:59.571392</td>\n",
       "      <td>UNLOCKED</td>\n",
       "    </tr>\n",
       "    <tr>\n",
       "      <th>4</th>\n",
       "      <td>5</td>\n",
       "      <td>2020-03-12 01:00:17.571392</td>\n",
       "      <td>DISABLED</td>\n",
       "    </tr>\n",
       "  </tbody>\n",
       "</table>\n",
       "</div>"
      ],
      "text/plain": [
       "   account_id                started_when  to_state\n",
       "0           1  2020-01-17 13:01:20.571392  DISABLED\n",
       "1           2  2020-02-24 02:00:21.571392  UNLOCKED\n",
       "2           3  2020-03-17 22:22:55.571392  DISABLED\n",
       "3           4  2020-02-25 04:28:59.571392  UNLOCKED\n",
       "4           5  2020-03-12 01:00:17.571392  DISABLED"
      ]
     },
     "execution_count": 5,
     "metadata": {},
     "output_type": "execute_result"
    }
   ],
   "source": [
    "# Current state of each account_id\n",
    "ast_grouped.head()"
   ]
  },
  {
   "cell_type": "code",
   "execution_count": 6,
   "metadata": {},
   "outputs": [],
   "source": [
    "# Number of accounts in each state\n",
    "account_overview = ast_grouped['to_state'].value_counts()\n",
    "account_overview_df = pd.DataFrame(account_overview).reset_index()"
   ]
  },
  {
   "cell_type": "code",
   "execution_count": 7,
   "metadata": {},
   "outputs": [
    {
     "data": {
      "text/html": [
       "<div>\n",
       "<style scoped>\n",
       "    .dataframe tbody tr th:only-of-type {\n",
       "        vertical-align: middle;\n",
       "    }\n",
       "\n",
       "    .dataframe tbody tr th {\n",
       "        vertical-align: top;\n",
       "    }\n",
       "\n",
       "    .dataframe thead th {\n",
       "        text-align: right;\n",
       "    }\n",
       "</style>\n",
       "<table border=\"1\" class=\"dataframe\">\n",
       "  <thead>\n",
       "    <tr style=\"text-align: right;\">\n",
       "      <th></th>\n",
       "      <th>status</th>\n",
       "      <th>number_of_accounts</th>\n",
       "    </tr>\n",
       "  </thead>\n",
       "  <tbody>\n",
       "    <tr>\n",
       "      <th>0</th>\n",
       "      <td>ONGOING</td>\n",
       "      <td>473</td>\n",
       "    </tr>\n",
       "    <tr>\n",
       "      <th>1</th>\n",
       "      <td>UNLOCKED</td>\n",
       "      <td>292</td>\n",
       "    </tr>\n",
       "    <tr>\n",
       "      <th>2</th>\n",
       "      <td>WRITTEN_OFF</td>\n",
       "      <td>7</td>\n",
       "    </tr>\n",
       "  </tbody>\n",
       "</table>\n",
       "</div>"
      ],
      "text/plain": [
       "        status  number_of_accounts\n",
       "0      ONGOING                 473\n",
       "1     UNLOCKED                 292\n",
       "2  WRITTEN_OFF                   7"
      ]
     },
     "execution_count": 7,
     "metadata": {},
     "output_type": "execute_result"
    }
   ],
   "source": [
    "# Rename column\n",
    "account_overview_df = account_overview_df.rename(columns={'index':'status','to_state':'number_of_accounts'})\n",
    "\n",
    "# Reassign value\n",
    "account_overview_df.iloc[0,0] = 'ONGOING'\n",
    "account_overview_df"
   ]
  },
  {
   "cell_type": "markdown",
   "metadata": {},
   "source": [
    "### Visualize"
   ]
  },
  {
   "cell_type": "code",
   "execution_count": 8,
   "metadata": {
    "scrolled": true
   },
   "outputs": [
    {
     "data": {
      "image/png": "[encoded data removed]",
      "text/plain": [
       "<Figure size 720x360 with 2 Axes>"
      ]
     },
     "metadata": {
      "needs_background": "light"
     },
     "output_type": "display_data"
    }
   ],
   "source": [
    "# Set values\n",
    "y = account_overview_df['status']\n",
    "width = account_overview_df['number_of_accounts']\n",
    "colors = ['#0e8ca4', '#ff9900', 'red']\n",
    "\n",
    "# Format subplots\n",
    "fig = plt.figure(figsize=(10,5))\n",
    "ax1 = fig.add_subplot(121)\n",
    "ax2 = fig.add_subplot(122)\n",
    "\n",
    "# Create first plot\n",
    "fig.suptitle(\"Status of Accounts\",fontsize=15)\n",
    "ax1.barh(y,width, color=\"#0e8ca4\")\n",
    "ax1.set_xlabel(\"Total Number of Acounts\")\n",
    "\n",
    "# Create second plot\n",
    "ax2.pie(width,labels=y,colors=colors,autopct='%1.1f%%')\n",
    "\n",
    "# Save figure\n",
    "plt.savefig('../Output/Part2/account_overview.png')\n",
    "\n",
    "# Show figure\n",
    "plt.show()"
   ]
  },
  {
   "cell_type": "markdown",
   "metadata": {},
   "source": [
    "### Registration Over Time"
   ]
  },
  {
   "cell_type": "code",
   "execution_count": 2,
   "metadata": {},
   "outputs": [],
   "source": [
    "# Read in data\n",
    "accounts = pd.read_csv('../Resources/accounts.csv')"
   ]
  },
  {
   "cell_type": "code",
   "execution_count": 3,
   "metadata": {},
   "outputs": [],
   "source": [
    "# Limit date to year and month\n",
    "accounts['registration_date'] = [date[0:7] for date in accounts['registration_date']]"
   ]
  },
  {
   "cell_type": "code",
   "execution_count": 4,
   "metadata": {},
   "outputs": [],
   "source": [
    "# Change data time to datetime\n",
    "accounts['registration_date'] = pd.to_datetime(accounts['registration_date'])"
   ]
  },
  {
   "cell_type": "code",
   "execution_count": 5,
   "metadata": {},
   "outputs": [],
   "source": [
    "# Count the number of registration per date\n",
    "accounts_grouped = accounts.groupby('registration_date',as_index=False)['id'].count()"
   ]
  },
  {
   "cell_type": "code",
   "execution_count": 14,
   "metadata": {},
   "outputs": [
    {
     "data": {
      "image/png": "[encoded data removed]",
      "text/plain": [
       "<Figure size 432x288 with 1 Axes>"
      ]
     },
     "metadata": {
      "needs_background": "light"
     },
     "output_type": "display_data"
    }
   ],
   "source": [
    "# Create plot\n",
    "plt.plot(accounts_grouped['registration_date'], accounts_grouped['id'], color=\"#0e8ca4\")\n",
    "\n",
    "# Format plot\n",
    "plt.title(\"Number of Accounts Registered Over Time\")\n",
    "plt.xlabel(\"Date\")\n",
    "plt.ylabel(\"Sum of Accounts\")\n",
    "\n",
    "# Save plot\n",
    "plt.savefig('../Output/Part2/registrations_over_time.png')\n",
    "\n",
    "# Preview plot\n",
    "plt.tight_layout()\n",
    "plt.show()"
   ]
  },
  {
   "cell_type": "code",
   "execution_count": null,
   "metadata": {},
   "outputs": [],
   "source": []
  }
 ],
 "metadata": {
  "kernelspec": {
   "display_name": "Python 3",
   "language": "python",
   "name": "python3"
  },
  "language_info": {
   "codemirror_mode": {
    "name": "ipython",
    "version": 3
   },
   "file_extension": ".py",
   "mimetype": "text/x-python",
   "name": "python",
   "nbconvert_exporter": "python",
   "pygments_lexer": "ipython3",
   "version": "3.7.3"
  }
 },
 "nbformat": 4,
 "nbformat_minor": 2
}
