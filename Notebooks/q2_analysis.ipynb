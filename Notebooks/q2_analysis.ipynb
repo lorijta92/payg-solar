{
 "cells": [
  {
   "cell_type": "markdown",
   "metadata": {},
   "source": [
    "Try timestamp input with time HH:MM:SS\n",
    "\n",
    "! timedelta(days=1) = timedelta(hours=24) -> doesn't change at midnight/partial days\n",
    "\n",
    "Would do with more time:\n",
    "\n",
    "Would find way to calculate calendar days vs. 24hr gaps to filter by TIME for any accounts repeating in a day -- OR -- would select later time (if timestamp occurs >1, select latest)\n",
    "\n",
    "Find nearest date if date doesn't occur"
   ]
  },
  {
   "cell_type": "code",
   "execution_count": 13,
   "metadata": {},
   "outputs": [],
   "source": [
    "import pandas as pd\n",
    "from datetime import timedelta"
   ]
  },
  {
   "cell_type": "code",
   "execution_count": 14,
   "metadata": {},
   "outputs": [],
   "source": [
    "# Read in data\n",
    "# products = pd.read_csv(\"../Resources/products.csv\")\n",
    "# accounts = pd.read_csv(\"../Resources/accounts.csv\")\n",
    "ast_df = pd.read_csv(\"../Resources/account_state_transitions.csv\")\n",
    "# gpa = pd.read_csv(\"../Resources/group_product_associations.csv\")\n",
    "# groups = pd.read_csv(\"../Resources/groups.csv\")\n",
    "# payments = pd.read_csv(\"../Resources/payments.csv\")"
   ]
  },
  {
   "cell_type": "code",
   "execution_count": 15,
   "metadata": {},
   "outputs": [
    {
     "data": {
      "text/html": [
       "<div>\n",
       "<style scoped>\n",
       "    .dataframe tbody tr th:only-of-type {\n",
       "        vertical-align: middle;\n",
       "    }\n",
       "\n",
       "    .dataframe tbody tr th {\n",
       "        vertical-align: top;\n",
       "    }\n",
       "\n",
       "    .dataframe thead th {\n",
       "        text-align: right;\n",
       "    }\n",
       "</style>\n",
       "<table border=\"1\" class=\"dataframe\">\n",
       "  <thead>\n",
       "    <tr style=\"text-align: right;\">\n",
       "      <th></th>\n",
       "      <th>id</th>\n",
       "      <th>created_when</th>\n",
       "      <th>started_when</th>\n",
       "      <th>account_id</th>\n",
       "      <th>from_state</th>\n",
       "      <th>to_state</th>\n",
       "      <th>previous_state_transition_id</th>\n",
       "    </tr>\n",
       "  </thead>\n",
       "  <tbody>\n",
       "    <tr>\n",
       "      <th>0</th>\n",
       "      <td>3</td>\n",
       "      <td>2020-03-12 20:03:35.724574</td>\n",
       "      <td>2019-11-06 05:49:39.571392</td>\n",
       "      <td>2</td>\n",
       "      <td>CREATED</td>\n",
       "      <td>ENABLED</td>\n",
       "      <td>NaN</td>\n",
       "    </tr>\n",
       "    <tr>\n",
       "      <th>1</th>\n",
       "      <td>4</td>\n",
       "      <td>2020-03-12 20:03:35.724574</td>\n",
       "      <td>2019-11-25 22:20:59.150339</td>\n",
       "      <td>2</td>\n",
       "      <td>ENABLED</td>\n",
       "      <td>DISABLED</td>\n",
       "      <td>3.0</td>\n",
       "    </tr>\n",
       "    <tr>\n",
       "      <th>2</th>\n",
       "      <td>5</td>\n",
       "      <td>2020-03-12 20:03:36.042456</td>\n",
       "      <td>2019-11-26 10:22:36.571392</td>\n",
       "      <td>2</td>\n",
       "      <td>DISABLED</td>\n",
       "      <td>ENABLED</td>\n",
       "      <td>4.0</td>\n",
       "    </tr>\n",
       "    <tr>\n",
       "      <th>3</th>\n",
       "      <td>6</td>\n",
       "      <td>2020-03-12 20:03:36.042456</td>\n",
       "      <td>2019-11-29 11:03:32.150339</td>\n",
       "      <td>2</td>\n",
       "      <td>ENABLED</td>\n",
       "      <td>DISABLED</td>\n",
       "      <td>5.0</td>\n",
       "    </tr>\n",
       "    <tr>\n",
       "      <th>4</th>\n",
       "      <td>7</td>\n",
       "      <td>2020-03-12 20:03:36.098448</td>\n",
       "      <td>2019-12-03 10:08:03.571392</td>\n",
       "      <td>2</td>\n",
       "      <td>DISABLED</td>\n",
       "      <td>ENABLED</td>\n",
       "      <td>6.0</td>\n",
       "    </tr>\n",
       "  </tbody>\n",
       "</table>\n",
       "</div>"
      ],
      "text/plain": [
       "   id                created_when                started_when  account_id  \\\n",
       "0   3  2020-03-12 20:03:35.724574  2019-11-06 05:49:39.571392           2   \n",
       "1   4  2020-03-12 20:03:35.724574  2019-11-25 22:20:59.150339           2   \n",
       "2   5  2020-03-12 20:03:36.042456  2019-11-26 10:22:36.571392           2   \n",
       "3   6  2020-03-12 20:03:36.042456  2019-11-29 11:03:32.150339           2   \n",
       "4   7  2020-03-12 20:03:36.098448  2019-12-03 10:08:03.571392           2   \n",
       "\n",
       "  from_state  to_state  previous_state_transition_id  \n",
       "0    CREATED   ENABLED                           NaN  \n",
       "1    ENABLED  DISABLED                           3.0  \n",
       "2   DISABLED   ENABLED                           4.0  \n",
       "3    ENABLED  DISABLED                           5.0  \n",
       "4   DISABLED   ENABLED                           6.0  "
      ]
     },
     "execution_count": 15,
     "metadata": {},
     "output_type": "execute_result"
    }
   ],
   "source": [
    "ast_df.head()"
   ]
  },
  {
   "cell_type": "markdown",
   "metadata": {},
   "source": [
    "## 2) Devise a method of generating a table of all Accounts with their State as of any arbitrary timestamp in the past and the total time they had been in that state as of the timestamp."
   ]
  },
  {
   "cell_type": "markdown",
   "metadata": {},
   "source": [
    "### Limit Dataframe by Indicated Timestamp"
   ]
  },
  {
   "cell_type": "code",
   "execution_count": 16,
   "metadata": {},
   "outputs": [
    {
     "name": "stdout",
     "output_type": "stream",
     "text": [
      "Enter date with YYYY-MM-DD format.2020-03-01\n"
     ]
    }
   ],
   "source": [
    "# Variable to take timestamp input.\n",
    "timestamp_str = input(\"Enter date with YYYY-MM-DD format.\")"
   ]
  },
  {
   "cell_type": "code",
   "execution_count": 17,
   "metadata": {},
   "outputs": [],
   "source": [
    "# Convert variable from string to datetime object\n",
    "timestamp_dt = pd.to_datetime(timestamp_str)"
   ]
  },
  {
   "cell_type": "code",
   "execution_count": 18,
   "metadata": {},
   "outputs": [],
   "source": [
    "# Change data type from string to datetime object\n",
    "ast_df['started_when'] = pd.to_datetime(ast_df['started_when'])"
   ]
  },
  {
   "cell_type": "code",
   "execution_count": 19,
   "metadata": {},
   "outputs": [
    {
     "data": {
      "text/html": [
       "<div>\n",
       "<style scoped>\n",
       "    .dataframe tbody tr th:only-of-type {\n",
       "        vertical-align: middle;\n",
       "    }\n",
       "\n",
       "    .dataframe tbody tr th {\n",
       "        vertical-align: top;\n",
       "    }\n",
       "\n",
       "    .dataframe thead th {\n",
       "        text-align: right;\n",
       "    }\n",
       "</style>\n",
       "<table border=\"1\" class=\"dataframe\">\n",
       "  <thead>\n",
       "    <tr style=\"text-align: right;\">\n",
       "      <th></th>\n",
       "      <th>id</th>\n",
       "      <th>created_when</th>\n",
       "      <th>started_when</th>\n",
       "      <th>account_id</th>\n",
       "      <th>from_state</th>\n",
       "      <th>to_state</th>\n",
       "      <th>previous_state_transition_id</th>\n",
       "    </tr>\n",
       "  </thead>\n",
       "  <tbody>\n",
       "    <tr>\n",
       "      <th>894</th>\n",
       "      <td>4689</td>\n",
       "      <td>2020-03-12 20:05:14.950510</td>\n",
       "      <td>2020-03-01 06:59:59.571392</td>\n",
       "      <td>34</td>\n",
       "      <td>DISABLED</td>\n",
       "      <td>UNLOCKED</td>\n",
       "      <td>4688.0</td>\n",
       "    </tr>\n",
       "    <tr>\n",
       "      <th>1009</th>\n",
       "      <td>6862</td>\n",
       "      <td>2020-03-12 20:05:33.177894</td>\n",
       "      <td>2020-03-01 08:29:39.571392</td>\n",
       "      <td>38</td>\n",
       "      <td>DISABLED</td>\n",
       "      <td>ENABLED</td>\n",
       "      <td>6861.0</td>\n",
       "    </tr>\n",
       "    <tr>\n",
       "      <th>1045</th>\n",
       "      <td>7272</td>\n",
       "      <td>2020-03-12 20:05:37.621790</td>\n",
       "      <td>2020-03-01 22:46:39.571392</td>\n",
       "      <td>39</td>\n",
       "      <td>DISABLED</td>\n",
       "      <td>ENABLED</td>\n",
       "      <td>7271.0</td>\n",
       "    </tr>\n",
       "    <tr>\n",
       "      <th>1112</th>\n",
       "      <td>7963</td>\n",
       "      <td>2020-03-12 20:05:46.723718</td>\n",
       "      <td>2020-03-01 20:41:24.340623</td>\n",
       "      <td>42</td>\n",
       "      <td>ENABLED</td>\n",
       "      <td>DISABLED</td>\n",
       "      <td>7962.0</td>\n",
       "    </tr>\n",
       "    <tr>\n",
       "      <th>1407</th>\n",
       "      <td>9576</td>\n",
       "      <td>2020-03-12 20:06:43.954110</td>\n",
       "      <td>2020-03-01 16:07:29.571392</td>\n",
       "      <td>60</td>\n",
       "      <td>DISABLED</td>\n",
       "      <td>ENABLED</td>\n",
       "      <td>9575.0</td>\n",
       "    </tr>\n",
       "  </tbody>\n",
       "</table>\n",
       "</div>"
      ],
      "text/plain": [
       "        id                created_when               started_when  account_id  \\\n",
       "894   4689  2020-03-12 20:05:14.950510 2020-03-01 06:59:59.571392          34   \n",
       "1009  6862  2020-03-12 20:05:33.177894 2020-03-01 08:29:39.571392          38   \n",
       "1045  7272  2020-03-12 20:05:37.621790 2020-03-01 22:46:39.571392          39   \n",
       "1112  7963  2020-03-12 20:05:46.723718 2020-03-01 20:41:24.340623          42   \n",
       "1407  9576  2020-03-12 20:06:43.954110 2020-03-01 16:07:29.571392          60   \n",
       "\n",
       "     from_state  to_state  previous_state_transition_id  \n",
       "894    DISABLED  UNLOCKED                        4688.0  \n",
       "1009   DISABLED   ENABLED                        6861.0  \n",
       "1045   DISABLED   ENABLED                        7271.0  \n",
       "1112    ENABLED  DISABLED                        7962.0  \n",
       "1407   DISABLED   ENABLED                        9575.0  "
      ]
     },
     "execution_count": 19,
     "metadata": {},
     "output_type": "execute_result"
    }
   ],
   "source": [
    "# Create limited dataframe based on indicated timestamp \n",
    "df_limited = ast_df.loc[(ast_df['started_when'] >= timestamp_dt) & (ast_df['started_when'] < timestamp_dt + timedelta(days=1))]\n",
    "df_limited.head()"
   ]
  },
  {
   "cell_type": "markdown",
   "metadata": {},
   "source": [
    "### Current State of Each Account by Indicated Timestamp"
   ]
  },
  {
   "cell_type": "code",
   "execution_count": 20,
   "metadata": {
    "scrolled": true
   },
   "outputs": [
    {
     "data": {
      "text/html": [
       "<div>\n",
       "<style scoped>\n",
       "    .dataframe tbody tr th:only-of-type {\n",
       "        vertical-align: middle;\n",
       "    }\n",
       "\n",
       "    .dataframe tbody tr th {\n",
       "        vertical-align: top;\n",
       "    }\n",
       "\n",
       "    .dataframe thead th {\n",
       "        text-align: right;\n",
       "    }\n",
       "</style>\n",
       "<table border=\"1\" class=\"dataframe\">\n",
       "  <thead>\n",
       "    <tr style=\"text-align: right;\">\n",
       "      <th></th>\n",
       "      <th>started_when</th>\n",
       "      <th>account_id</th>\n",
       "      <th>to_state</th>\n",
       "    </tr>\n",
       "  </thead>\n",
       "  <tbody>\n",
       "    <tr>\n",
       "      <th>0</th>\n",
       "      <td>2020-03-01 06:59:59.571392</td>\n",
       "      <td>34</td>\n",
       "      <td>UNLOCKED</td>\n",
       "    </tr>\n",
       "    <tr>\n",
       "      <th>1</th>\n",
       "      <td>2020-03-01 08:29:39.571392</td>\n",
       "      <td>38</td>\n",
       "      <td>ENABLED</td>\n",
       "    </tr>\n",
       "    <tr>\n",
       "      <th>2</th>\n",
       "      <td>2020-03-01 22:46:39.571392</td>\n",
       "      <td>39</td>\n",
       "      <td>ENABLED</td>\n",
       "    </tr>\n",
       "    <tr>\n",
       "      <th>3</th>\n",
       "      <td>2020-03-01 20:41:24.340623</td>\n",
       "      <td>42</td>\n",
       "      <td>DISABLED</td>\n",
       "    </tr>\n",
       "    <tr>\n",
       "      <th>4</th>\n",
       "      <td>2020-03-01 22:57:43.571392</td>\n",
       "      <td>55</td>\n",
       "      <td>ENABLED</td>\n",
       "    </tr>\n",
       "  </tbody>\n",
       "</table>\n",
       "</div>"
      ],
      "text/plain": [
       "                started_when  account_id  to_state\n",
       "0 2020-03-01 06:59:59.571392          34  UNLOCKED\n",
       "1 2020-03-01 08:29:39.571392          38   ENABLED\n",
       "2 2020-03-01 22:46:39.571392          39   ENABLED\n",
       "3 2020-03-01 20:41:24.340623          42  DISABLED\n",
       "4 2020-03-01 22:57:43.571392          55   ENABLED"
      ]
     },
     "execution_count": 20,
     "metadata": {},
     "output_type": "execute_result"
    }
   ],
   "source": [
    "# Create dataframe to show current state of each account based on indicated timestamp\n",
    "df_limited2 = df_limited[['started_when','account_id','to_state']]\n",
    "\n",
    "# Sort by account_id\n",
    "df_limited2 = df_limited2.sort_values('account_id')\n",
    "\n",
    "# Reset index\n",
    "df_limited2 = df_limited2.reset_index(drop=True)\n",
    "df_limited2.head()"
   ]
  },
  {
   "cell_type": "code",
   "execution_count": 21,
   "metadata": {},
   "outputs": [
    {
     "data": {
      "text/html": [
       "<div>\n",
       "<style scoped>\n",
       "    .dataframe tbody tr th:only-of-type {\n",
       "        vertical-align: middle;\n",
       "    }\n",
       "\n",
       "    .dataframe tbody tr th {\n",
       "        vertical-align: top;\n",
       "    }\n",
       "\n",
       "    .dataframe thead th {\n",
       "        text-align: right;\n",
       "    }\n",
       "</style>\n",
       "<table border=\"1\" class=\"dataframe\">\n",
       "  <thead>\n",
       "    <tr style=\"text-align: right;\">\n",
       "      <th></th>\n",
       "      <th>started_when</th>\n",
       "      <th>account_id</th>\n",
       "      <th>to_state</th>\n",
       "    </tr>\n",
       "  </thead>\n",
       "  <tbody>\n",
       "    <tr>\n",
       "      <th>21</th>\n",
       "      <td>2020-03-01 19:49:56.971392</td>\n",
       "      <td>168</td>\n",
       "      <td>DISABLED</td>\n",
       "    </tr>\n",
       "    <tr>\n",
       "      <th>22</th>\n",
       "      <td>2020-03-01 10:55:42.571392</td>\n",
       "      <td>168</td>\n",
       "      <td>ENABLED</td>\n",
       "    </tr>\n",
       "  </tbody>\n",
       "</table>\n",
       "</div>"
      ],
      "text/plain": [
       "                 started_when account_id  to_state\n",
       "21 2020-03-01 19:49:56.971392        168  DISABLED\n",
       "22 2020-03-01 10:55:42.571392        168   ENABLED"
      ]
     },
     "execution_count": 21,
     "metadata": {},
     "output_type": "execute_result"
    }
   ],
   "source": [
    "# Show in dataframe, any accounts occuring more than once during indicated timestamp\n",
    "\n",
    "account_ids = []\n",
    "df_repeat = pd.DataFrame(columns=['started_when', 'account_id', 'to_state'])\n",
    "\n",
    "for i in range(0,len(df_limited2['account_id'])):\n",
    "    account_id = df_limited2['account_id'][i]\n",
    "    if account_id in account_ids:\n",
    "        df_temp = df_limited2.loc[df_limited2['account_id'] == account_id]\n",
    "        df_repeat = df_repeat.append(df_temp)\n",
    "    else:\n",
    "        account_ids.append(account_id)\n",
    "\n",
    "df_repeat"
   ]
  },
  {
   "cell_type": "markdown",
   "metadata": {},
   "source": [
    "### Total Time in State as of Indicated Timestamp"
   ]
  },
  {
   "cell_type": "code",
   "execution_count": null,
   "metadata": {},
   "outputs": [],
   "source": []
  }
 ],
 "metadata": {
  "kernelspec": {
   "display_name": "Python 3",
   "language": "python",
   "name": "python3"
  },
  "language_info": {
   "codemirror_mode": {
    "name": "ipython",
    "version": 3
   },
   "file_extension": ".py",
   "mimetype": "text/x-python",
   "name": "python",
   "nbconvert_exporter": "python",
   "pygments_lexer": "ipython3",
   "version": "3.7.3"
  }
 },
 "nbformat": 4,
 "nbformat_minor": 2
}
