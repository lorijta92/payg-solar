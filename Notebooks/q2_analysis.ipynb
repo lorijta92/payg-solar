{
 "cells": [
  {
   "cell_type": "code",
   "execution_count": 1,
   "metadata": {},
   "outputs": [],
   "source": [
    "import pandas as pd\n",
    "from datetime import timedelta"
   ]
  },
  {
   "cell_type": "code",
   "execution_count": 2,
   "metadata": {},
   "outputs": [],
   "source": [
    "# Read in data\n",
    "# products = pd.read_csv(\"../Resources/products.csv\")\n",
    "# accounts = pd.read_csv(\"../Resources/accounts.csv\")\n",
    "ast = pd.read_csv(\"../Resources/account_state_transitions.csv\")\n",
    "# gpa = pd.read_csv(\"../Resources/group_product_associations.csv\")\n",
    "# groups = pd.read_csv(\"../Resources/groups.csv\")\n",
    "# payments = pd.read_csv(\"../Resources/payments.csv\")"
   ]
  },
  {
   "cell_type": "code",
   "execution_count": 3,
   "metadata": {},
   "outputs": [
    {
     "data": {
      "text/html": [
       "<div>\n",
       "<style scoped>\n",
       "    .dataframe tbody tr th:only-of-type {\n",
       "        vertical-align: middle;\n",
       "    }\n",
       "\n",
       "    .dataframe tbody tr th {\n",
       "        vertical-align: top;\n",
       "    }\n",
       "\n",
       "    .dataframe thead th {\n",
       "        text-align: right;\n",
       "    }\n",
       "</style>\n",
       "<table border=\"1\" class=\"dataframe\">\n",
       "  <thead>\n",
       "    <tr style=\"text-align: right;\">\n",
       "      <th></th>\n",
       "      <th>id</th>\n",
       "      <th>created_when</th>\n",
       "      <th>started_when</th>\n",
       "      <th>account_id</th>\n",
       "      <th>from_state</th>\n",
       "      <th>to_state</th>\n",
       "      <th>previous_state_transition_id</th>\n",
       "    </tr>\n",
       "  </thead>\n",
       "  <tbody>\n",
       "    <tr>\n",
       "      <th>0</th>\n",
       "      <td>3</td>\n",
       "      <td>2020-03-12 20:03:35.724574</td>\n",
       "      <td>2019-11-06 05:49:39.571392</td>\n",
       "      <td>2</td>\n",
       "      <td>CREATED</td>\n",
       "      <td>ENABLED</td>\n",
       "      <td>NaN</td>\n",
       "    </tr>\n",
       "    <tr>\n",
       "      <th>1</th>\n",
       "      <td>4</td>\n",
       "      <td>2020-03-12 20:03:35.724574</td>\n",
       "      <td>2019-11-25 22:20:59.150339</td>\n",
       "      <td>2</td>\n",
       "      <td>ENABLED</td>\n",
       "      <td>DISABLED</td>\n",
       "      <td>3.0</td>\n",
       "    </tr>\n",
       "    <tr>\n",
       "      <th>2</th>\n",
       "      <td>5</td>\n",
       "      <td>2020-03-12 20:03:36.042456</td>\n",
       "      <td>2019-11-26 10:22:36.571392</td>\n",
       "      <td>2</td>\n",
       "      <td>DISABLED</td>\n",
       "      <td>ENABLED</td>\n",
       "      <td>4.0</td>\n",
       "    </tr>\n",
       "    <tr>\n",
       "      <th>3</th>\n",
       "      <td>6</td>\n",
       "      <td>2020-03-12 20:03:36.042456</td>\n",
       "      <td>2019-11-29 11:03:32.150339</td>\n",
       "      <td>2</td>\n",
       "      <td>ENABLED</td>\n",
       "      <td>DISABLED</td>\n",
       "      <td>5.0</td>\n",
       "    </tr>\n",
       "    <tr>\n",
       "      <th>4</th>\n",
       "      <td>7</td>\n",
       "      <td>2020-03-12 20:03:36.098448</td>\n",
       "      <td>2019-12-03 10:08:03.571392</td>\n",
       "      <td>2</td>\n",
       "      <td>DISABLED</td>\n",
       "      <td>ENABLED</td>\n",
       "      <td>6.0</td>\n",
       "    </tr>\n",
       "  </tbody>\n",
       "</table>\n",
       "</div>"
      ],
      "text/plain": [
       "   id                created_when                started_when  account_id  \\\n",
       "0   3  2020-03-12 20:03:35.724574  2019-11-06 05:49:39.571392           2   \n",
       "1   4  2020-03-12 20:03:35.724574  2019-11-25 22:20:59.150339           2   \n",
       "2   5  2020-03-12 20:03:36.042456  2019-11-26 10:22:36.571392           2   \n",
       "3   6  2020-03-12 20:03:36.042456  2019-11-29 11:03:32.150339           2   \n",
       "4   7  2020-03-12 20:03:36.098448  2019-12-03 10:08:03.571392           2   \n",
       "\n",
       "  from_state  to_state  previous_state_transition_id  \n",
       "0    CREATED   ENABLED                           NaN  \n",
       "1    ENABLED  DISABLED                           3.0  \n",
       "2   DISABLED   ENABLED                           4.0  \n",
       "3    ENABLED  DISABLED                           5.0  \n",
       "4   DISABLED   ENABLED                           6.0  "
      ]
     },
     "execution_count": 3,
     "metadata": {},
     "output_type": "execute_result"
    }
   ],
   "source": [
    "ast.head()"
   ]
  },
  {
   "cell_type": "markdown",
   "metadata": {},
   "source": [
    "## 2) Devise a method of generating a table of all Accounts with their State as of any arbitrary timestamp in the past and the total time they had been in that state as of the timestamp."
   ]
  },
  {
   "cell_type": "code",
   "execution_count": null,
   "metadata": {},
   "outputs": [],
   "source": [
    "# State as of: date (Using 'started_when' for now)\n",
    "\n",
    "# SELECT 'to_state' WHERE 'started_when' == timestamp"
   ]
  },
  {
   "cell_type": "code",
   "execution_count": 45,
   "metadata": {},
   "outputs": [
    {
     "name": "stdout",
     "output_type": "stream",
     "text": [
      "Enter date with YYYY-MM-DD format.2020-03-05\n"
     ]
    }
   ],
   "source": [
    "# Variable to take timestamp input.\n",
    "timestamp_str = input(\"Enter date with YYYY-MM-DD format.\")"
   ]
  },
  {
   "cell_type": "code",
   "execution_count": 46,
   "metadata": {},
   "outputs": [],
   "source": [
    "# Convert variable from string to datetime object\n",
    "timestamp_dt = pd.to_datetime(timestamp_str)"
   ]
  },
  {
   "cell_type": "code",
   "execution_count": 47,
   "metadata": {},
   "outputs": [],
   "source": [
    "# Change data type from string to datetime object\n",
    "ast['started_when'] = pd.to_datetime(ast['started_when'])"
   ]
  },
  {
   "cell_type": "code",
   "execution_count": 48,
   "metadata": {},
   "outputs": [
    {
     "data": {
      "text/html": [
       "<div>\n",
       "<style scoped>\n",
       "    .dataframe tbody tr th:only-of-type {\n",
       "        vertical-align: middle;\n",
       "    }\n",
       "\n",
       "    .dataframe tbody tr th {\n",
       "        vertical-align: top;\n",
       "    }\n",
       "\n",
       "    .dataframe thead th {\n",
       "        text-align: right;\n",
       "    }\n",
       "</style>\n",
       "<table border=\"1\" class=\"dataframe\">\n",
       "  <thead>\n",
       "    <tr style=\"text-align: right;\">\n",
       "      <th></th>\n",
       "      <th>id</th>\n",
       "      <th>created_when</th>\n",
       "      <th>started_when</th>\n",
       "      <th>account_id</th>\n",
       "      <th>from_state</th>\n",
       "      <th>to_state</th>\n",
       "      <th>previous_state_transition_id</th>\n",
       "    </tr>\n",
       "  </thead>\n",
       "  <tbody>\n",
       "    <tr>\n",
       "      <th>86</th>\n",
       "      <td>443</td>\n",
       "      <td>2020-03-12 20:03:41.980224</td>\n",
       "      <td>2020-03-05 01:00:17.571392</td>\n",
       "      <td>5</td>\n",
       "      <td>DISABLED</td>\n",
       "      <td>ENABLED</td>\n",
       "      <td>442.0</td>\n",
       "    </tr>\n",
       "    <tr>\n",
       "      <th>474</th>\n",
       "      <td>3049</td>\n",
       "      <td>2020-03-12 20:04:21.579794</td>\n",
       "      <td>2020-03-05 15:06:23.571392</td>\n",
       "      <td>20</td>\n",
       "      <td>DISABLED</td>\n",
       "      <td>ENABLED</td>\n",
       "      <td>3048.0</td>\n",
       "    </tr>\n",
       "    <tr>\n",
       "      <th>651</th>\n",
       "      <td>3822</td>\n",
       "      <td>2020-03-12 20:04:40.010129</td>\n",
       "      <td>2020-03-05 08:38:12.571392</td>\n",
       "      <td>25</td>\n",
       "      <td>ENABLED</td>\n",
       "      <td>DISABLED</td>\n",
       "      <td>3821.0</td>\n",
       "    </tr>\n",
       "    <tr>\n",
       "      <th>938</th>\n",
       "      <td>5417</td>\n",
       "      <td>2020-03-12 20:05:20.780819</td>\n",
       "      <td>2020-03-05 10:22:37.879084</td>\n",
       "      <td>35</td>\n",
       "      <td>ENABLED</td>\n",
       "      <td>DISABLED</td>\n",
       "      <td>5416.0</td>\n",
       "    </tr>\n",
       "    <tr>\n",
       "      <th>1666</th>\n",
       "      <td>10661</td>\n",
       "      <td>2020-03-12 20:07:26.635161</td>\n",
       "      <td>2020-03-05 07:08:35.571392</td>\n",
       "      <td>72</td>\n",
       "      <td>ENABLED</td>\n",
       "      <td>DISABLED</td>\n",
       "      <td>10660.0</td>\n",
       "    </tr>\n",
       "  </tbody>\n",
       "</table>\n",
       "</div>"
      ],
      "text/plain": [
       "         id                created_when               started_when  \\\n",
       "86      443  2020-03-12 20:03:41.980224 2020-03-05 01:00:17.571392   \n",
       "474    3049  2020-03-12 20:04:21.579794 2020-03-05 15:06:23.571392   \n",
       "651    3822  2020-03-12 20:04:40.010129 2020-03-05 08:38:12.571392   \n",
       "938    5417  2020-03-12 20:05:20.780819 2020-03-05 10:22:37.879084   \n",
       "1666  10661  2020-03-12 20:07:26.635161 2020-03-05 07:08:35.571392   \n",
       "\n",
       "      account_id from_state  to_state  previous_state_transition_id  \n",
       "86             5   DISABLED   ENABLED                         442.0  \n",
       "474           20   DISABLED   ENABLED                        3048.0  \n",
       "651           25    ENABLED  DISABLED                        3821.0  \n",
       "938           35    ENABLED  DISABLED                        5416.0  \n",
       "1666          72    ENABLED  DISABLED                       10660.0  "
      ]
     },
     "execution_count": 48,
     "metadata": {},
     "output_type": "execute_result"
    }
   ],
   "source": [
    "# Create limited dataframe based on indicated timestamp \n",
    "df = ast.loc[(ast['started_when'] >= timestamp_dt) & (ast['started_when'] < timestamp_dt + timedelta(days=1))]\n",
    "df.head()"
   ]
  },
  {
   "cell_type": "markdown",
   "metadata": {},
   "source": [
    "Try timestamp input with time HH:MM:SS\n",
    "\n",
    "Check timedelta(days=1) -> 24hrs? or before midnight (11:59)\n",
    "\n",
    "Need to select \"to_state\" based on timestamp, then calculate timedelta based on Peter's answer"
   ]
  },
  {
   "cell_type": "code",
   "execution_count": null,
   "metadata": {},
   "outputs": [],
   "source": []
  }
 ],
 "metadata": {
  "kernelspec": {
   "display_name": "Python 3",
   "language": "python",
   "name": "python3"
  },
  "language_info": {
   "codemirror_mode": {
    "name": "ipython",
    "version": 3
   },
   "file_extension": ".py",
   "mimetype": "text/x-python",
   "name": "python",
   "nbconvert_exporter": "python",
   "pygments_lexer": "ipython3",
   "version": "3.7.3"
  }
 },
 "nbformat": 4,
 "nbformat_minor": 2
}
