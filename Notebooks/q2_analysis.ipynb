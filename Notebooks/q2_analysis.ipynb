{
 "cells": [
  {
   "cell_type": "code",
   "execution_count": 1,
   "metadata": {},
   "outputs": [],
   "source": [
    "import pandas as pd"
   ]
  },
  {
   "cell_type": "code",
   "execution_count": 17,
   "metadata": {},
   "outputs": [],
   "source": [
    "# Read in data\n",
    "# products = pd.read_csv(\"Resources/products.csv\")\n",
    "# accounts = pd.read_csv(\"Resources/accounts.csv\")\n",
    "ast = pd.read_csv(\"../Resources/account_state_transitions.csv\")\n",
    "# gpa = pd.read_csv(\"Resources/group_product_associations.csv\")\n",
    "# groups = pd.read_csv(\"Resources/groups.csv\")\n",
    "# payments = pd.read_csv(\"Resources/payments.csv\")"
   ]
  },
  {
   "cell_type": "code",
   "execution_count": 18,
   "metadata": {},
   "outputs": [
    {
     "data": {
      "text/html": [
       "<div>\n",
       "<style scoped>\n",
       "    .dataframe tbody tr th:only-of-type {\n",
       "        vertical-align: middle;\n",
       "    }\n",
       "\n",
       "    .dataframe tbody tr th {\n",
       "        vertical-align: top;\n",
       "    }\n",
       "\n",
       "    .dataframe thead th {\n",
       "        text-align: right;\n",
       "    }\n",
       "</style>\n",
       "<table border=\"1\" class=\"dataframe\">\n",
       "  <thead>\n",
       "    <tr style=\"text-align: right;\">\n",
       "      <th></th>\n",
       "      <th>id</th>\n",
       "      <th>created_when</th>\n",
       "      <th>started_when</th>\n",
       "      <th>account_id</th>\n",
       "      <th>from_state</th>\n",
       "      <th>to_state</th>\n",
       "      <th>previous_state_transition_id</th>\n",
       "    </tr>\n",
       "  </thead>\n",
       "  <tbody>\n",
       "    <tr>\n",
       "      <th>0</th>\n",
       "      <td>3</td>\n",
       "      <td>2020-03-12 20:03:35.724574</td>\n",
       "      <td>2019-11-06 05:49:39.571392</td>\n",
       "      <td>2</td>\n",
       "      <td>CREATED</td>\n",
       "      <td>ENABLED</td>\n",
       "      <td>NaN</td>\n",
       "    </tr>\n",
       "    <tr>\n",
       "      <th>1</th>\n",
       "      <td>4</td>\n",
       "      <td>2020-03-12 20:03:35.724574</td>\n",
       "      <td>2019-11-25 22:20:59.150339</td>\n",
       "      <td>2</td>\n",
       "      <td>ENABLED</td>\n",
       "      <td>DISABLED</td>\n",
       "      <td>3.0</td>\n",
       "    </tr>\n",
       "    <tr>\n",
       "      <th>2</th>\n",
       "      <td>5</td>\n",
       "      <td>2020-03-12 20:03:36.042456</td>\n",
       "      <td>2019-11-26 10:22:36.571392</td>\n",
       "      <td>2</td>\n",
       "      <td>DISABLED</td>\n",
       "      <td>ENABLED</td>\n",
       "      <td>4.0</td>\n",
       "    </tr>\n",
       "    <tr>\n",
       "      <th>3</th>\n",
       "      <td>6</td>\n",
       "      <td>2020-03-12 20:03:36.042456</td>\n",
       "      <td>2019-11-29 11:03:32.150339</td>\n",
       "      <td>2</td>\n",
       "      <td>ENABLED</td>\n",
       "      <td>DISABLED</td>\n",
       "      <td>5.0</td>\n",
       "    </tr>\n",
       "    <tr>\n",
       "      <th>4</th>\n",
       "      <td>7</td>\n",
       "      <td>2020-03-12 20:03:36.098448</td>\n",
       "      <td>2019-12-03 10:08:03.571392</td>\n",
       "      <td>2</td>\n",
       "      <td>DISABLED</td>\n",
       "      <td>ENABLED</td>\n",
       "      <td>6.0</td>\n",
       "    </tr>\n",
       "  </tbody>\n",
       "</table>\n",
       "</div>"
      ],
      "text/plain": [
       "   id                created_when                started_when  account_id  \\\n",
       "0   3  2020-03-12 20:03:35.724574  2019-11-06 05:49:39.571392           2   \n",
       "1   4  2020-03-12 20:03:35.724574  2019-11-25 22:20:59.150339           2   \n",
       "2   5  2020-03-12 20:03:36.042456  2019-11-26 10:22:36.571392           2   \n",
       "3   6  2020-03-12 20:03:36.042456  2019-11-29 11:03:32.150339           2   \n",
       "4   7  2020-03-12 20:03:36.098448  2019-12-03 10:08:03.571392           2   \n",
       "\n",
       "  from_state  to_state  previous_state_transition_id  \n",
       "0    CREATED   ENABLED                           NaN  \n",
       "1    ENABLED  DISABLED                           3.0  \n",
       "2   DISABLED   ENABLED                           4.0  \n",
       "3    ENABLED  DISABLED                           5.0  \n",
       "4   DISABLED   ENABLED                           6.0  "
      ]
     },
     "execution_count": 18,
     "metadata": {},
     "output_type": "execute_result"
    }
   ],
   "source": [
    "ast.head()"
   ]
  },
  {
   "cell_type": "markdown",
   "metadata": {},
   "source": [
    "## 2) Devise a method of generating a table of all Accounts with their State as of any arbitrary timestamp in the past and the total time they had been in that state as of the timestamp."
   ]
  },
  {
   "cell_type": "code",
   "execution_count": null,
   "metadata": {},
   "outputs": [],
   "source": [
    "# State as of: date (Using 'started_when' for now)\n",
    "# total time in state as of date: -- time in state as of date until changed? or time since date moving forward?"
   ]
  },
  {
   "cell_type": "code",
   "execution_count": null,
   "metadata": {},
   "outputs": [],
   "source": [
    "# Variable to take timestamp input.\n",
    "timestamp_str = input(\"Enter date with YYYY-MM-DD format.\")"
   ]
  },
  {
   "cell_type": "code",
   "execution_count": null,
   "metadata": {},
   "outputs": [],
   "source": [
    "# Convert variable from string to datetime object\n",
    "timestamp_dt = pd.to_datetime(timestamp_str)"
   ]
  },
  {
   "cell_type": "code",
   "execution_count": null,
   "metadata": {},
   "outputs": [],
   "source": [
    "# Change data type from string to datetime object\n",
    "payments['effective_when'] = pd.to_datetime(payments['effective_when'])"
   ]
  },
  {
   "cell_type": "code",
   "execution_count": null,
   "metadata": {},
   "outputs": [],
   "source": [
    "# Create limited dataframe starting at indicated timestamp \n",
    "payments_date_limited = payments.loc[payments['effective_when'] >= timestamp_dt]"
   ]
  },
  {
   "cell_type": "markdown",
   "metadata": {},
   "source": [
    "## 3) Devise a method of generating a table of all Accounts with their cumulative payments to date as of any arbitrary timestamp in the past."
   ]
  },
  {
   "cell_type": "code",
   "execution_count": 3,
   "metadata": {},
   "outputs": [],
   "source": [
    "# Set currency\n",
    "currency = payments.currency[0]"
   ]
  },
  {
   "cell_type": "code",
   "execution_count": 10,
   "metadata": {},
   "outputs": [
    {
     "name": "stdout",
     "output_type": "stream",
     "text": [
      "Enter date with YYYY-MM-DD format.2020-01-01\n"
     ]
    }
   ],
   "source": [
    "# Variable to take timestamp input.\n",
    "timestamp_str = input(\"Enter date with YYYY-MM-DD format.\")"
   ]
  },
  {
   "cell_type": "code",
   "execution_count": 11,
   "metadata": {},
   "outputs": [
    {
     "name": "stdout",
     "output_type": "stream",
     "text": [
      "2020-01-01 00:00:00\n",
      "<class 'pandas._libs.tslibs.timestamps.Timestamp'>\n"
     ]
    }
   ],
   "source": [
    "# Convert variable from string to datetime object\n",
    "timestamp_dt = pd.to_datetime(timestamp_str)"
   ]
  },
  {
   "cell_type": "code",
   "execution_count": 12,
   "metadata": {},
   "outputs": [],
   "source": [
    "# Change data type from string to datetime object\n",
    "payments['effective_when'] = pd.to_datetime(payments['effective_when'])"
   ]
  },
  {
   "cell_type": "code",
   "execution_count": 13,
   "metadata": {},
   "outputs": [
    {
     "data": {
      "text/html": [
       "<div>\n",
       "<style scoped>\n",
       "    .dataframe tbody tr th:only-of-type {\n",
       "        vertical-align: middle;\n",
       "    }\n",
       "\n",
       "    .dataframe tbody tr th {\n",
       "        vertical-align: top;\n",
       "    }\n",
       "\n",
       "    .dataframe thead th {\n",
       "        text-align: right;\n",
       "    }\n",
       "</style>\n",
       "<table border=\"1\" class=\"dataframe\">\n",
       "  <thead>\n",
       "    <tr style=\"text-align: right;\">\n",
       "      <th></th>\n",
       "      <th>id</th>\n",
       "      <th>effective_when</th>\n",
       "      <th>account_id</th>\n",
       "      <th>currency</th>\n",
       "      <th>amount</th>\n",
       "    </tr>\n",
       "  </thead>\n",
       "  <tbody>\n",
       "    <tr>\n",
       "      <th>12</th>\n",
       "      <td>13</td>\n",
       "      <td>2020-01-05 09:25:19.571392</td>\n",
       "      <td>2</td>\n",
       "      <td>KES</td>\n",
       "      <td>368</td>\n",
       "    </tr>\n",
       "    <tr>\n",
       "      <th>13</th>\n",
       "      <td>14</td>\n",
       "      <td>2020-01-12 11:43:07.571392</td>\n",
       "      <td>2</td>\n",
       "      <td>KES</td>\n",
       "      <td>380</td>\n",
       "    </tr>\n",
       "    <tr>\n",
       "      <th>14</th>\n",
       "      <td>15</td>\n",
       "      <td>2020-01-19 14:23:11.571392</td>\n",
       "      <td>2</td>\n",
       "      <td>KES</td>\n",
       "      <td>422</td>\n",
       "    </tr>\n",
       "    <tr>\n",
       "      <th>15</th>\n",
       "      <td>16</td>\n",
       "      <td>2020-01-27 02:37:47.571392</td>\n",
       "      <td>2</td>\n",
       "      <td>KES</td>\n",
       "      <td>388</td>\n",
       "    </tr>\n",
       "    <tr>\n",
       "      <th>16</th>\n",
       "      <td>17</td>\n",
       "      <td>2020-02-03 20:07:42.571392</td>\n",
       "      <td>2</td>\n",
       "      <td>KES</td>\n",
       "      <td>422</td>\n",
       "    </tr>\n",
       "  </tbody>\n",
       "</table>\n",
       "</div>"
      ],
      "text/plain": [
       "    id             effective_when  account_id currency  amount\n",
       "12  13 2020-01-05 09:25:19.571392           2      KES     368\n",
       "13  14 2020-01-12 11:43:07.571392           2      KES     380\n",
       "14  15 2020-01-19 14:23:11.571392           2      KES     422\n",
       "15  16 2020-01-27 02:37:47.571392           2      KES     388\n",
       "16  17 2020-02-03 20:07:42.571392           2      KES     422"
      ]
     },
     "execution_count": 13,
     "metadata": {},
     "output_type": "execute_result"
    }
   ],
   "source": [
    "# Create limited dataframe starting at indicated timestamp \n",
    "payments_date_limited = payments.loc[payments['effective_when'] >= timestamp_dt]"
   ]
  },
  {
   "cell_type": "code",
   "execution_count": 14,
   "metadata": {},
   "outputs": [
    {
     "data": {
      "text/html": [
       "<div>\n",
       "<style scoped>\n",
       "    .dataframe tbody tr th:only-of-type {\n",
       "        vertical-align: middle;\n",
       "    }\n",
       "\n",
       "    .dataframe tbody tr th {\n",
       "        vertical-align: top;\n",
       "    }\n",
       "\n",
       "    .dataframe thead th {\n",
       "        text-align: right;\n",
       "    }\n",
       "</style>\n",
       "<table border=\"1\" class=\"dataframe\">\n",
       "  <thead>\n",
       "    <tr style=\"text-align: right;\">\n",
       "      <th></th>\n",
       "      <th>account_id</th>\n",
       "      <th>total_num_payments</th>\n",
       "    </tr>\n",
       "  </thead>\n",
       "  <tbody>\n",
       "    <tr>\n",
       "      <th>0</th>\n",
       "      <td>2</td>\n",
       "      <td>8</td>\n",
       "    </tr>\n",
       "    <tr>\n",
       "      <th>1</th>\n",
       "      <td>3</td>\n",
       "      <td>7</td>\n",
       "    </tr>\n",
       "    <tr>\n",
       "      <th>2</th>\n",
       "      <td>4</td>\n",
       "      <td>8</td>\n",
       "    </tr>\n",
       "    <tr>\n",
       "      <th>3</th>\n",
       "      <td>5</td>\n",
       "      <td>5</td>\n",
       "    </tr>\n",
       "    <tr>\n",
       "      <th>4</th>\n",
       "      <td>6</td>\n",
       "      <td>8</td>\n",
       "    </tr>\n",
       "  </tbody>\n",
       "</table>\n",
       "</div>"
      ],
      "text/plain": [
       "   account_id  total_num_payments\n",
       "0           2                   8\n",
       "1           3                   7\n",
       "2           4                   8\n",
       "3           5                   5\n",
       "4           6                   8"
      ]
     },
     "execution_count": 14,
     "metadata": {},
     "output_type": "execute_result"
    }
   ],
   "source": [
    "# Group by account_id and count number of records\n",
    "num_payments = payments_date_limited.groupby('account_id').count()\n",
    "\n",
    "# Flatten dataframe\n",
    "num_payments = num_payments.rename_axis(None, axis=1).reset_index()\n",
    "\n",
    "# Drop columns\n",
    "num_payments = num_payments.drop(columns=['effective_when','currency','amount'])\n",
    "\n",
    "# Rename column\n",
    "cumulative_payments = num_payments.rename(columns={\"id\":\"total_num_payments\"})"
   ]
  },
  {
   "cell_type": "code",
   "execution_count": 15,
   "metadata": {},
   "outputs": [
    {
     "name": "stdout",
     "output_type": "stream",
     "text": [
      "CUMULATIVE PAYMENTS BY ACCOUNT SINCE: 2020-01-01\n"
     ]
    },
    {
     "data": {
      "text/html": [
       "<div>\n",
       "<style scoped>\n",
       "    .dataframe tbody tr th:only-of-type {\n",
       "        vertical-align: middle;\n",
       "    }\n",
       "\n",
       "    .dataframe tbody tr th {\n",
       "        vertical-align: top;\n",
       "    }\n",
       "\n",
       "    .dataframe thead th {\n",
       "        text-align: right;\n",
       "    }\n",
       "</style>\n",
       "<table border=\"1\" class=\"dataframe\">\n",
       "  <thead>\n",
       "    <tr style=\"text-align: right;\">\n",
       "      <th></th>\n",
       "      <th>account_id</th>\n",
       "      <th>total_num_payments</th>\n",
       "      <th>total_sum_payments_KES</th>\n",
       "    </tr>\n",
       "  </thead>\n",
       "  <tbody>\n",
       "    <tr>\n",
       "      <th>0</th>\n",
       "      <td>2</td>\n",
       "      <td>8</td>\n",
       "      <td>3102</td>\n",
       "    </tr>\n",
       "    <tr>\n",
       "      <th>1</th>\n",
       "      <td>3</td>\n",
       "      <td>7</td>\n",
       "      <td>3213</td>\n",
       "    </tr>\n",
       "    <tr>\n",
       "      <th>2</th>\n",
       "      <td>4</td>\n",
       "      <td>8</td>\n",
       "      <td>4599</td>\n",
       "    </tr>\n",
       "    <tr>\n",
       "      <th>3</th>\n",
       "      <td>5</td>\n",
       "      <td>5</td>\n",
       "      <td>2386</td>\n",
       "    </tr>\n",
       "    <tr>\n",
       "      <th>4</th>\n",
       "      <td>6</td>\n",
       "      <td>8</td>\n",
       "      <td>2360</td>\n",
       "    </tr>\n",
       "  </tbody>\n",
       "</table>\n",
       "</div>"
      ],
      "text/plain": [
       "   account_id  total_num_payments  total_sum_payments_KES\n",
       "0           2                   8                    3102\n",
       "1           3                   7                    3213\n",
       "2           4                   8                    4599\n",
       "3           5                   5                    2386\n",
       "4           6                   8                    2360"
      ]
     },
     "execution_count": 15,
     "metadata": {},
     "output_type": "execute_result"
    }
   ],
   "source": [
    "# Group by account_id and sum payment amounts\n",
    "sum_payments = payments_date_limited.groupby('account_id').sum()\n",
    "\n",
    "# Flatten dataframe\n",
    "sum_payments = sum_payments.rename_axis(None, axis=1).reset_index()\n",
    "\n",
    "# Select one column\n",
    "sum_payments = sum_payments['amount']\n",
    "\n",
    "# Add series to cumulative_payments dataframe\n",
    "cumulative_payments[f'total_sum_payments_{currency}'] = sum_payments\n",
    "\n",
    "print(f\"CUMULATIVE PAYMENTS BY ACCOUNT SINCE: {timestamp_str[:10]}\")\n",
    "cumulative_payments.head()"
   ]
  },
  {
   "cell_type": "code",
   "execution_count": 23,
   "metadata": {},
   "outputs": [],
   "source": [
    "# Export as csv file\n",
    "# cumulative_payments.to_csv(f\"Generated_Tables/cumulative_payments_by_account_since_{timestamp_str[:10]}.csv\", index=False)"
   ]
  }
 ],
 "metadata": {
  "kernelspec": {
   "display_name": "Python 3",
   "language": "python",
   "name": "python3"
  },
  "language_info": {
   "codemirror_mode": {
    "name": "ipython",
    "version": 3
   },
   "file_extension": ".py",
   "mimetype": "text/x-python",
   "name": "python",
   "nbconvert_exporter": "python",
   "pygments_lexer": "ipython3",
   "version": "3.7.3"
  }
 },
 "nbformat": 4,
 "nbformat_minor": 2
}
