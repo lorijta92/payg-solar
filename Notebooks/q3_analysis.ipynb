{
 "cells": [
  {
   "cell_type": "code",
   "execution_count": null,
   "metadata": {},
   "outputs": [],
   "source": [
    "import pandas as pd"
   ]
  },
  {
   "cell_type": "code",
   "execution_count": null,
   "metadata": {},
   "outputs": [],
   "source": [
    "# Read in data\n",
    "payments = pd.read_csv(\"../Resources/payments.csv\")"
   ]
  },
  {
   "cell_type": "markdown",
   "metadata": {},
   "source": [
    "## 3) Devise a method of generating a table of all Accounts with their cumulative payments to date as of any arbitrary timestamp in the past."
   ]
  },
  {
   "cell_type": "code",
   "execution_count": null,
   "metadata": {
    "scrolled": true
   },
   "outputs": [],
   "source": [
    "# Preview dataframe\n",
    "payments.head()"
   ]
  },
  {
   "cell_type": "code",
   "execution_count": null,
   "metadata": {},
   "outputs": [],
   "source": [
    "# Check for unique currencies\n",
    "payments.currency.unique()"
   ]
  },
  {
   "cell_type": "code",
   "execution_count": null,
   "metadata": {},
   "outputs": [],
   "source": [
    "# Set currency\n",
    "currency = payments.currency[0]"
   ]
  },
  {
   "cell_type": "code",
   "execution_count": null,
   "metadata": {},
   "outputs": [],
   "source": [
    "# Variable to take timestamp input.\n",
    "timestamp_str = input(\"Enter date with YYYY-MM-DD format.\")"
   ]
  },
  {
   "cell_type": "code",
   "execution_count": null,
   "metadata": {},
   "outputs": [],
   "source": [
    "# Convert variable from string to datetime object\n",
    "timestamp_dt = pd.to_datetime(timestamp_str)\n",
    "print(timestamp_dt)\n",
    "print(type(timestamp_dt))"
   ]
  },
  {
   "cell_type": "code",
   "execution_count": null,
   "metadata": {},
   "outputs": [],
   "source": [
    "# Check data type of date in 'effective_when'\n",
    "type(payments['effective_when'][0])"
   ]
  },
  {
   "cell_type": "code",
   "execution_count": null,
   "metadata": {},
   "outputs": [],
   "source": [
    "# Change data type from string to datetime object\n",
    "payments['effective_when'] = pd.to_datetime(payments['effective_when'])"
   ]
  },
  {
   "cell_type": "code",
   "execution_count": null,
   "metadata": {},
   "outputs": [],
   "source": [
    "# Check data type of date in 'effective_when'\n",
    "type(payments['effective_when'][0])"
   ]
  },
  {
   "cell_type": "code",
   "execution_count": null,
   "metadata": {},
   "outputs": [],
   "source": [
    "# Create limited dataframe starting at indicated timestamp \n",
    "payments_date_limited = payments.loc[payments['effective_when'] >= timestamp_dt]\n",
    "payments_date_limited.head()"
   ]
  },
  {
   "cell_type": "code",
   "execution_count": null,
   "metadata": {},
   "outputs": [],
   "source": [
    "# Group by account_id and count number of records\n",
    "num_payments = payments_date_limited.groupby('account_id').count()\n",
    "\n",
    "# Flatten dataframe\n",
    "num_payments = num_payments.rename_axis(None, axis=1).reset_index()\n",
    "\n",
    "# Drop columns\n",
    "num_payments = num_payments.drop(columns=['effective_when','currency','amount'])\n",
    "\n",
    "# Rename column\n",
    "cumulative_payments = num_payments.rename(columns={\"id\":\"total_num_payments\"})\n",
    "cumulative_payments.head()"
   ]
  },
  {
   "cell_type": "code",
   "execution_count": null,
   "metadata": {},
   "outputs": [],
   "source": [
    "# Group by account_id and sum payment amounts\n",
    "sum_payments = payments_date_limited.groupby('account_id').sum()\n",
    "\n",
    "# Flatten dataframe\n",
    "sum_payments = sum_payments.rename_axis(None, axis=1).reset_index()\n",
    "\n",
    "# Select one column\n",
    "sum_payments = sum_payments['amount']\n",
    "\n",
    "# Add series to cumulative_payments dataframe\n",
    "cumulative_payments[f'total_sum_payments_{currency}'] = sum_payments\n",
    "\n",
    "print(f\"CUMULATIVE PAYMENTS BY ACCOUNT SINCE: {timestamp_str[:10]}\")\n",
    "cumulative_payments.head()"
   ]
  },
  {
   "cell_type": "code",
   "execution_count": null,
   "metadata": {},
   "outputs": [],
   "source": [
    "# Export as csv file\n",
    "cumulative_payments.to_csv(f\"../Output/cumulative_payments_by_account_since_{timestamp_str[:10]}.csv\", index=False)"
   ]
  }
 ],
 "metadata": {
  "kernelspec": {
   "display_name": "Python 3",
   "language": "python",
   "name": "python3"
  },
  "language_info": {
   "codemirror_mode": {
    "name": "ipython",
    "version": 3
   },
   "file_extension": ".py",
   "mimetype": "text/x-python",
   "name": "python",
   "nbconvert_exporter": "python",
   "pygments_lexer": "ipython3",
   "version": "3.7.3"
  }
 },
 "nbformat": 4,
 "nbformat_minor": 2
}
