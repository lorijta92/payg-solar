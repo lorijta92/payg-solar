{
 "cells": [
  {
   "cell_type": "code",
   "execution_count": 9,
   "metadata": {},
   "outputs": [],
   "source": [
    "import pandas as pd\n",
    "import matplotlib.pyplot as plt"
   ]
  },
  {
   "cell_type": "code",
   "execution_count": 10,
   "metadata": {},
   "outputs": [],
   "source": [
    "# Read in data\n",
    "accounts = pd.read_csv(\"../Resources/accounts.csv\")\n",
    "gpa = pd.read_csv(\"../Resources/group_product_associations.csv\")"
   ]
  },
  {
   "cell_type": "markdown",
   "metadata": {},
   "source": [
    "## 1) Generate a bar chart visualizing the relative frequency of Products registered with Accounts."
   ]
  },
  {
   "cell_type": "code",
   "execution_count": 11,
   "metadata": {},
   "outputs": [],
   "source": [
    "# Rename columns\n",
    "gpa = gpa.rename(columns={\"id\":\"gpa_id\"})\n",
    "accounts = accounts.rename(columns={\"id\":\"accounts_df_id\"})"
   ]
  },
  {
   "cell_type": "code",
   "execution_count": 12,
   "metadata": {},
   "outputs": [
    {
     "data": {
      "text/html": [
       "<div>\n",
       "<style scoped>\n",
       "    .dataframe tbody tr th:only-of-type {\n",
       "        vertical-align: middle;\n",
       "    }\n",
       "\n",
       "    .dataframe tbody tr th {\n",
       "        vertical-align: top;\n",
       "    }\n",
       "\n",
       "    .dataframe thead th {\n",
       "        text-align: right;\n",
       "    }\n",
       "</style>\n",
       "<table border=\"1\" class=\"dataframe\">\n",
       "  <thead>\n",
       "    <tr style=\"text-align: right;\">\n",
       "      <th></th>\n",
       "      <th>gpa_id</th>\n",
       "      <th>group_id</th>\n",
       "      <th>product_id</th>\n",
       "      <th>accounts_df_id</th>\n",
       "      <th>organization_id</th>\n",
       "      <th>registration_date</th>\n",
       "      <th>is_written_off</th>\n",
       "      <th>is_unlocked</th>\n",
       "    </tr>\n",
       "  </thead>\n",
       "  <tbody>\n",
       "    <tr>\n",
       "      <th>0</th>\n",
       "      <td>1</td>\n",
       "      <td>1</td>\n",
       "      <td>42</td>\n",
       "      <td>2</td>\n",
       "      <td>10001</td>\n",
       "      <td>2019-11-06 05:49:39.571392</td>\n",
       "      <td>False</td>\n",
       "      <td>True</td>\n",
       "    </tr>\n",
       "    <tr>\n",
       "      <th>1</th>\n",
       "      <td>1</td>\n",
       "      <td>1</td>\n",
       "      <td>42</td>\n",
       "      <td>3</td>\n",
       "      <td>10001</td>\n",
       "      <td>2019-11-14 14:57:02.571392</td>\n",
       "      <td>False</td>\n",
       "      <td>False</td>\n",
       "    </tr>\n",
       "    <tr>\n",
       "      <th>2</th>\n",
       "      <td>1</td>\n",
       "      <td>1</td>\n",
       "      <td>42</td>\n",
       "      <td>4</td>\n",
       "      <td>10001</td>\n",
       "      <td>2019-12-11 03:18:53.571392</td>\n",
       "      <td>False</td>\n",
       "      <td>True</td>\n",
       "    </tr>\n",
       "    <tr>\n",
       "      <th>3</th>\n",
       "      <td>1</td>\n",
       "      <td>1</td>\n",
       "      <td>42</td>\n",
       "      <td>5</td>\n",
       "      <td>10001</td>\n",
       "      <td>2019-10-31 22:36:23.571392</td>\n",
       "      <td>False</td>\n",
       "      <td>False</td>\n",
       "    </tr>\n",
       "    <tr>\n",
       "      <th>4</th>\n",
       "      <td>1</td>\n",
       "      <td>1</td>\n",
       "      <td>42</td>\n",
       "      <td>6</td>\n",
       "      <td>10001</td>\n",
       "      <td>2019-09-29 13:04:45.571392</td>\n",
       "      <td>False</td>\n",
       "      <td>True</td>\n",
       "    </tr>\n",
       "  </tbody>\n",
       "</table>\n",
       "</div>"
      ],
      "text/plain": [
       "   gpa_id  group_id  product_id  accounts_df_id  organization_id  \\\n",
       "0       1         1          42               2            10001   \n",
       "1       1         1          42               3            10001   \n",
       "2       1         1          42               4            10001   \n",
       "3       1         1          42               5            10001   \n",
       "4       1         1          42               6            10001   \n",
       "\n",
       "            registration_date  is_written_off  is_unlocked  \n",
       "0  2019-11-06 05:49:39.571392           False         True  \n",
       "1  2019-11-14 14:57:02.571392           False        False  \n",
       "2  2019-12-11 03:18:53.571392           False         True  \n",
       "3  2019-10-31 22:36:23.571392           False        False  \n",
       "4  2019-09-29 13:04:45.571392           False         True  "
      ]
     },
     "execution_count": 12,
     "metadata": {},
     "output_type": "execute_result"
    }
   ],
   "source": [
    "# Merge accounts and gpa data frames\n",
    "group_id_merge = gpa.merge(accounts, how=\"inner\",on=\"group_id\")\n",
    "group_id_merge.head()"
   ]
  },
  {
   "cell_type": "code",
   "execution_count": 13,
   "metadata": {},
   "outputs": [
    {
     "data": {
      "text/html": [
       "<div>\n",
       "<style scoped>\n",
       "    .dataframe tbody tr th:only-of-type {\n",
       "        vertical-align: middle;\n",
       "    }\n",
       "\n",
       "    .dataframe tbody tr th {\n",
       "        vertical-align: top;\n",
       "    }\n",
       "\n",
       "    .dataframe thead th {\n",
       "        text-align: right;\n",
       "    }\n",
       "</style>\n",
       "<table border=\"1\" class=\"dataframe\">\n",
       "  <thead>\n",
       "    <tr style=\"text-align: right;\">\n",
       "      <th></th>\n",
       "      <th>product_id</th>\n",
       "      <th>registration_count</th>\n",
       "    </tr>\n",
       "  </thead>\n",
       "  <tbody>\n",
       "    <tr>\n",
       "      <th>0</th>\n",
       "      <td>1</td>\n",
       "      <td>21</td>\n",
       "    </tr>\n",
       "    <tr>\n",
       "      <th>1</th>\n",
       "      <td>2</td>\n",
       "      <td>11</td>\n",
       "    </tr>\n",
       "    <tr>\n",
       "      <th>2</th>\n",
       "      <td>3</td>\n",
       "      <td>11</td>\n",
       "    </tr>\n",
       "    <tr>\n",
       "      <th>3</th>\n",
       "      <td>4</td>\n",
       "      <td>21</td>\n",
       "    </tr>\n",
       "    <tr>\n",
       "      <th>4</th>\n",
       "      <td>5</td>\n",
       "      <td>11</td>\n",
       "    </tr>\n",
       "  </tbody>\n",
       "</table>\n",
       "</div>"
      ],
      "text/plain": [
       "   product_id  registration_count\n",
       "0           1                  21\n",
       "1           2                  11\n",
       "2           3                  11\n",
       "3           4                  21\n",
       "4           5                  11"
      ]
     },
     "execution_count": 13,
     "metadata": {},
     "output_type": "execute_result"
    }
   ],
   "source": [
    "# Use value_counts() on product_id column\n",
    "df_product_registration = pd.DataFrame(group_id_merge['product_id'].value_counts())\n",
    "\n",
    "# Reset index and order by product_id (named 'index')\n",
    "df_product_registration = df_product_registration.reset_index().sort_values('index')\n",
    "\n",
    "# Rename columns\n",
    "df_product_registration = df_product_registration.rename(columns={\"index\":\"product_id\",\"product_id\":\"registration_count\"})\n",
    "\n",
    "# Reset index\n",
    "df_product_registration = df_product_registration.reset_index(drop=True)\n",
    "df_product_registration.head()"
   ]
  },
  {
   "cell_type": "code",
   "execution_count": 17,
   "metadata": {},
   "outputs": [
    {
     "data": {
      "image/png": "[encoded data removed]",
      "text/plain": [
       "<Figure size 1440x432 with 1 Axes>"
      ]
     },
     "metadata": {
      "needs_background": "light"
     },
     "output_type": "display_data"
    }
   ],
   "source": [
    "# Make bar chart with product_id on x-axis, and registration_count on y-axis\n",
    "\n",
    "# Set x and y values\n",
    "x_values = df_product_registration['product_id'].tolist()\n",
    "y_values = df_product_registration['registration_count'].tolist()\n",
    "\n",
    "# Format plot\n",
    "plt.figure(figsize=(20, 6))\n",
    "registration_rect = plt.bar(x_values, y_values, width=0.5)\n",
    "plt.title(\"Frequency of Products Registered with Accounts\")\n",
    "plt.xlabel(\"Product ID\")\n",
    "plt.xticks(x_values)\n",
    "plt.ylabel(\"Number of Times Registered\")\n",
    "\n",
    "# Create function to label bars\n",
    "def label_bars(rects):\n",
    "    for rect in rects:\n",
    "        height = rect.get_height()\n",
    "        plt.text(rect.get_x() + rect.get_width()/2, height+0.5, height,\n",
    "                ha='center', va='bottom', color=\"black\")\n",
    "\n",
    "# Call function\n",
    "label_bars(registration_rect)\n",
    "\n",
    "# Save figure\n",
    "plt.savefig(\"../Output/product_registration1.png\")\n",
    "\n",
    "# Show figure\n",
    "plt.show()"
   ]
  },
  {
   "cell_type": "code",
   "execution_count": 19,
   "metadata": {},
   "outputs": [],
   "source": [
    "# Drop outliers\n",
    "del x_values[31]\n",
    "del y_values[31]"
   ]
  },
  {
   "cell_type": "code",
   "execution_count": 20,
   "metadata": {},
   "outputs": [
    {
     "data": {
      "image/png": "[encoded data removed]",
      "text/plain": [
       "<Figure size 1440x504 with 1 Axes>"
      ]
     },
     "metadata": {
      "needs_background": "light"
     },
     "output_type": "display_data"
    }
   ],
   "source": [
    "# Make bar chart excluding outlier: Product_ID 32 with  1086 count of registrations\n",
    "\n",
    "# Format plot\n",
    "plt.figure(figsize=(20, 7))\n",
    "registration_rect2 = plt.bar(x_values, y_values, width=0.5)\n",
    "plt.title(\"Frequency of Products Registered with Accounts Minus Outlier\")\n",
    "plt.xlabel(\"Product ID\")\n",
    "plt.xticks(x_values)\n",
    "plt.ylabel(\"Number of Times Registered\")\n",
    "\n",
    "# Call labeling function\n",
    "label_bars(registration_rect2)\n",
    "\n",
    "# Save figure\n",
    "plt.savefig(\"../Output/product_registration2.png\")\n",
    "\n",
    "# Show figure\n",
    "plt.show()"
   ]
  },
  {
   "cell_type": "markdown",
   "metadata": {},
   "source": [
    "## 4) Devise a method of generating a table of all Accounts with their “nominal” expected payments as of any arbitrary timestamp in the past. In other words, we’re looking for the amount the distributor would have collected as of the test date assuming the client had paid the minimum payment instantaneously upon going to a “disabled” state until reaching the unlock price."
   ]
  },
  {
   "cell_type": "code",
   "execution_count": null,
   "metadata": {},
   "outputs": [],
   "source": []
  }
 ],
 "metadata": {
  "kernelspec": {
   "display_name": "Python 3",
   "language": "python",
   "name": "python3"
  },
  "language_info": {
   "codemirror_mode": {
    "name": "ipython",
    "version": 3
   },
   "file_extension": ".py",
   "mimetype": "text/x-python",
   "name": "python",
   "nbconvert_exporter": "python",
   "pygments_lexer": "ipython3",
   "version": "3.7.3"
  }
 },
 "nbformat": 4,
 "nbformat_minor": 2
}
