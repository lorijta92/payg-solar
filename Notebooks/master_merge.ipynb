{
 "cells": [
  {
   "cell_type": "code",
   "execution_count": 1,
   "metadata": {},
   "outputs": [],
   "source": [
    "import pandas as pd\n",
    "from datetime import timedelta"
   ]
  },
  {
   "cell_type": "code",
   "execution_count": 2,
   "metadata": {},
   "outputs": [],
   "source": [
    "# Read in data\n",
    "accounts = pd.read_csv(\"../Resources/accounts.csv\")\n",
    "ast = pd.read_csv(\"../Resources/account_state_transitions.csv\")\n",
    "groups = pd.read_csv(\"../Resources/groups.csv\")\n",
    "payments = pd.read_csv(\"../Resources/payments.csv\")"
   ]
  },
  {
   "cell_type": "markdown",
   "metadata": {},
   "source": [
    "## Merge Dataframes"
   ]
  },
  {
   "cell_type": "code",
   "execution_count": 3,
   "metadata": {},
   "outputs": [],
   "source": [
    "# Merge 'ast' and 'accounts' dataframes\n",
    "ast_accounts_merge = pd.merge(left=ast, right=accounts, how='outer', left_on='account_id', right_on='id')\n",
    "\n",
    "# Limit columns\n",
    "ast_accounts_merge = ast_accounts_merge[['started_when','account_id','from_state','to_state','group_id','registration_date']]"
   ]
  },
  {
   "cell_type": "code",
   "execution_count": 4,
   "metadata": {},
   "outputs": [],
   "source": [
    "# Merge with 'groups' dataframe\n",
    "ast_accounts_groups_merge = pd.merge(left=ast_accounts_merge, right=groups, how='outer', left_on='group_id', right_on='id')\n",
    "\n",
    "# Limit columns\n",
    "aag_merge = ast_accounts_groups_merge.drop(columns=['id','name','price_clock_hour'])"
   ]
  },
  {
   "cell_type": "code",
   "execution_count": 5,
   "metadata": {},
   "outputs": [],
   "source": [
    "# Merge with 'payments' dataframe\n",
    "merged_df = pd.merge(left=aag_merge,right=payments,how=\"outer\",left_on='account_id',right_on='account_id')\n",
    "\n",
    "# Drop and rename columns\n",
    "merged_df = merged_df.drop(columns=['id','currency'])\n",
    "merged_df = merged_df.rename(columns={'amount':'payment_amount',\n",
    "                                     'started_when':'state_transition_date',\n",
    "                                     'effective_when':'payment_date'})\n",
    "# merged_df.head()"
   ]
  },
  {
   "cell_type": "code",
   "execution_count": 6,
   "metadata": {},
   "outputs": [],
   "source": [
    "# Convert to datetime\n",
    "merged_df['state_transition_date'] = pd.to_datetime(merged_df['state_transition_date'])\n",
    "merged_df['registration_date'] = pd.to_datetime(merged_df['registration_date'])\n",
    "merged_df['payment_date'] = pd.to_datetime(merged_df['payment_date'])"
   ]
  },
  {
   "cell_type": "code",
   "execution_count": 7,
   "metadata": {},
   "outputs": [],
   "source": [
    "# Add calculated columns\n",
    "merged_df['max_num_payments'] = (merged_df['price_unlock'] - merged_df['price_upfront']) / merged_df['minimum_payment']\n",
    "# merged_df.head()"
   ]
  },
  {
   "attachments": {},
   "cell_type": "markdown",
   "metadata": {},
   "source": [
    "### How long does it typically take Account holders to repay the unlock price as a % of the nominal loan term?"
   ]
  },
  {
   "cell_type": "code",
   "execution_count": 8,
   "metadata": {},
   "outputs": [],
   "source": [
    "# Filter dataframes\n",
    "unlocked_df = ast[ast['to_state']=='UNLOCKED']\n",
    "created_df = ast[ast['from_state']=='CREATED']\n",
    "\n",
    "# Select ids of unlocked accounts\n",
    "unlocked_accounts = [account for account in unlocked_df['account_id']]"
   ]
  },
  {
   "cell_type": "code",
   "execution_count": 9,
   "metadata": {},
   "outputs": [],
   "source": [
    "# Merge and limit columns\n",
    "created_unlocked = pd.merge(left=unlocked_df,right=created_df,how=\"inner\",left_on='account_id',right_on='account_id')\n",
    "created_unlocked = created_unlocked[['account_id','started_when_y','started_when_x']]"
   ]
  },
  {
   "cell_type": "code",
   "execution_count": 10,
   "metadata": {},
   "outputs": [],
   "source": [
    "# Rename columns\n",
    "created_unlocked = created_unlocked.rename(columns={\n",
    "    'started_when_y':'date_created',\n",
    "    'started_when_x':'date_unlock'\n",
    "})\n",
    "\n",
    "# created_unlocked.head()"
   ]
  },
  {
   "cell_type": "code",
   "execution_count": 11,
   "metadata": {},
   "outputs": [],
   "source": [
    "# Convert to datetime\n",
    "created_unlocked['date_unlock'] = pd.to_datetime(created_unlocked['date_unlock'])\n",
    "created_unlocked['date_created'] = pd.to_datetime(created_unlocked['date_created'])"
   ]
  },
  {
   "cell_type": "code",
   "execution_count": 12,
   "metadata": {
    "scrolled": true
   },
   "outputs": [],
   "source": [
    "# Add calculated column\n",
    "created_unlocked['time_difference'] = created_unlocked['date_unlock'] - created_unlocked['date_created']\n",
    "# created_unlocked.head()"
   ]
  },
  {
   "cell_type": "markdown",
   "metadata": {},
   "source": [
    "### \"as a percentage of nominal loan term\" --> number of actual payments / max_num_payments"
   ]
  },
  {
   "cell_type": "code",
   "execution_count": 13,
   "metadata": {},
   "outputs": [],
   "source": [
    "# Count of payments\n",
    "payments_ct = payments.groupby('account_id', as_index=False)['id'].count()\n",
    "\n",
    "# Rename column\n",
    "payments_ct = payments_ct.rename(columns={'id':'num_payments'})\n",
    "# payments_ct.head()"
   ]
  },
  {
   "cell_type": "code",
   "execution_count": 14,
   "metadata": {},
   "outputs": [],
   "source": [
    "# Filter dataframe for 'unlocked' accounts\n",
    "payments_ct_unlocked = payments_ct[payments_ct['account_id'].isin(unlocked_accounts)]\n",
    "# payments_ct_unlocked.head()"
   ]
  },
  {
   "cell_type": "code",
   "execution_count": 15,
   "metadata": {},
   "outputs": [],
   "source": [
    "created_unlocked = pd.merge(left=created_unlocked,right=payments_ct_unlocked,how='outer',left_on='account_id',right_on='account_id')\n",
    "# created_unlocked.head()"
   ]
  },
  {
   "cell_type": "markdown",
   "metadata": {},
   "source": [
    "#### Get max_num_payments"
   ]
  },
  {
   "cell_type": "code",
   "execution_count": 16,
   "metadata": {},
   "outputs": [],
   "source": [
    "# Grab maximum number of payments for each account and filter by unlocked accounts\n",
    "num_payments_grouped = merged_df.groupby('account_id',as_index=False)['max_num_payments'].min()\n",
    "num_payments_grouped = num_payments_grouped[num_payments_grouped['account_id'].isin(unlocked_accounts)]\n",
    "# created_unlocked.head()"
   ]
  },
  {
   "cell_type": "code",
   "execution_count": 17,
   "metadata": {},
   "outputs": [
    {
     "data": {
      "text/html": [
       "<div>\n",
       "<style scoped>\n",
       "    .dataframe tbody tr th:only-of-type {\n",
       "        vertical-align: middle;\n",
       "    }\n",
       "\n",
       "    .dataframe tbody tr th {\n",
       "        vertical-align: top;\n",
       "    }\n",
       "\n",
       "    .dataframe thead th {\n",
       "        text-align: right;\n",
       "    }\n",
       "</style>\n",
       "<table border=\"1\" class=\"dataframe\">\n",
       "  <thead>\n",
       "    <tr style=\"text-align: right;\">\n",
       "      <th></th>\n",
       "      <th>account_id</th>\n",
       "      <th>date_created</th>\n",
       "      <th>date_unlock</th>\n",
       "      <th>time_difference</th>\n",
       "      <th>num_payments</th>\n",
       "      <th>max_num_payments</th>\n",
       "    </tr>\n",
       "  </thead>\n",
       "  <tbody>\n",
       "    <tr>\n",
       "      <th>0</th>\n",
       "      <td>2</td>\n",
       "      <td>2019-11-06 05:49:39.571392</td>\n",
       "      <td>2020-02-24 02:00:21.571392</td>\n",
       "      <td>109 days 20:10:42</td>\n",
       "      <td>18</td>\n",
       "      <td>100.0</td>\n",
       "    </tr>\n",
       "    <tr>\n",
       "      <th>1</th>\n",
       "      <td>4</td>\n",
       "      <td>2019-12-11 03:18:53.571392</td>\n",
       "      <td>2020-02-25 04:28:59.571392</td>\n",
       "      <td>76 days 01:10:06</td>\n",
       "      <td>13</td>\n",
       "      <td>100.0</td>\n",
       "    </tr>\n",
       "    <tr>\n",
       "      <th>2</th>\n",
       "      <td>6</td>\n",
       "      <td>2019-09-29 13:04:45.571392</td>\n",
       "      <td>2020-02-20 18:54:47.571392</td>\n",
       "      <td>144 days 05:50:02</td>\n",
       "      <td>23</td>\n",
       "      <td>100.0</td>\n",
       "    </tr>\n",
       "    <tr>\n",
       "      <th>3</th>\n",
       "      <td>9</td>\n",
       "      <td>2019-10-10 12:49:10.571392</td>\n",
       "      <td>2020-03-04 07:45:50.571392</td>\n",
       "      <td>145 days 18:56:40</td>\n",
       "      <td>23</td>\n",
       "      <td>100.0</td>\n",
       "    </tr>\n",
       "    <tr>\n",
       "      <th>4</th>\n",
       "      <td>10</td>\n",
       "      <td>2019-12-15 03:38:31.571392</td>\n",
       "      <td>2020-02-21 15:48:49.571392</td>\n",
       "      <td>68 days 12:10:18</td>\n",
       "      <td>12</td>\n",
       "      <td>100.0</td>\n",
       "    </tr>\n",
       "  </tbody>\n",
       "</table>\n",
       "</div>"
      ],
      "text/plain": [
       "   account_id               date_created                date_unlock  \\\n",
       "0           2 2019-11-06 05:49:39.571392 2020-02-24 02:00:21.571392   \n",
       "1           4 2019-12-11 03:18:53.571392 2020-02-25 04:28:59.571392   \n",
       "2           6 2019-09-29 13:04:45.571392 2020-02-20 18:54:47.571392   \n",
       "3           9 2019-10-10 12:49:10.571392 2020-03-04 07:45:50.571392   \n",
       "4          10 2019-12-15 03:38:31.571392 2020-02-21 15:48:49.571392   \n",
       "\n",
       "    time_difference  num_payments  max_num_payments  \n",
       "0 109 days 20:10:42            18             100.0  \n",
       "1  76 days 01:10:06            13             100.0  \n",
       "2 144 days 05:50:02            23             100.0  \n",
       "3 145 days 18:56:40            23             100.0  \n",
       "4  68 days 12:10:18            12             100.0  "
      ]
     },
     "execution_count": 17,
     "metadata": {},
     "output_type": "execute_result"
    }
   ],
   "source": [
    "created_unlocked = pd.merge(left=created_unlocked,right=num_payments_grouped,how='outer',left_on='account_id',right_on='account_id')\n",
    "created_unlocked.head()"
   ]
  },
  {
   "cell_type": "code",
   "execution_count": 21,
   "metadata": {},
   "outputs": [
    {
     "data": {
      "text/html": [
       "<div>\n",
       "<style scoped>\n",
       "    .dataframe tbody tr th:only-of-type {\n",
       "        vertical-align: middle;\n",
       "    }\n",
       "\n",
       "    .dataframe tbody tr th {\n",
       "        vertical-align: top;\n",
       "    }\n",
       "\n",
       "    .dataframe thead th {\n",
       "        text-align: right;\n",
       "    }\n",
       "</style>\n",
       "<table border=\"1\" class=\"dataframe\">\n",
       "  <thead>\n",
       "    <tr style=\"text-align: right;\">\n",
       "      <th></th>\n",
       "      <th>account_id</th>\n",
       "      <th>date_created</th>\n",
       "      <th>date_unlock</th>\n",
       "      <th>time_difference</th>\n",
       "      <th>num_payments</th>\n",
       "      <th>max_num_payments</th>\n",
       "      <th>pct_loan_term</th>\n",
       "    </tr>\n",
       "  </thead>\n",
       "  <tbody>\n",
       "    <tr>\n",
       "      <th>0</th>\n",
       "      <td>2</td>\n",
       "      <td>2019-11-06 05:49:39.571392</td>\n",
       "      <td>2020-02-24 02:00:21.571392</td>\n",
       "      <td>109 days 20:10:42</td>\n",
       "      <td>18</td>\n",
       "      <td>100.0</td>\n",
       "      <td>18%</td>\n",
       "    </tr>\n",
       "    <tr>\n",
       "      <th>1</th>\n",
       "      <td>4</td>\n",
       "      <td>2019-12-11 03:18:53.571392</td>\n",
       "      <td>2020-02-25 04:28:59.571392</td>\n",
       "      <td>76 days 01:10:06</td>\n",
       "      <td>13</td>\n",
       "      <td>100.0</td>\n",
       "      <td>13%</td>\n",
       "    </tr>\n",
       "    <tr>\n",
       "      <th>2</th>\n",
       "      <td>6</td>\n",
       "      <td>2019-09-29 13:04:45.571392</td>\n",
       "      <td>2020-02-20 18:54:47.571392</td>\n",
       "      <td>144 days 05:50:02</td>\n",
       "      <td>23</td>\n",
       "      <td>100.0</td>\n",
       "      <td>23%</td>\n",
       "    </tr>\n",
       "    <tr>\n",
       "      <th>3</th>\n",
       "      <td>9</td>\n",
       "      <td>2019-10-10 12:49:10.571392</td>\n",
       "      <td>2020-03-04 07:45:50.571392</td>\n",
       "      <td>145 days 18:56:40</td>\n",
       "      <td>23</td>\n",
       "      <td>100.0</td>\n",
       "      <td>23%</td>\n",
       "    </tr>\n",
       "    <tr>\n",
       "      <th>4</th>\n",
       "      <td>10</td>\n",
       "      <td>2019-12-15 03:38:31.571392</td>\n",
       "      <td>2020-02-21 15:48:49.571392</td>\n",
       "      <td>68 days 12:10:18</td>\n",
       "      <td>12</td>\n",
       "      <td>100.0</td>\n",
       "      <td>12%</td>\n",
       "    </tr>\n",
       "    <tr>\n",
       "      <th>5</th>\n",
       "      <td>11</td>\n",
       "      <td>2019-09-22 00:50:52.571392</td>\n",
       "      <td>2020-02-22 10:21:48.571392</td>\n",
       "      <td>153 days 09:30:56</td>\n",
       "      <td>24</td>\n",
       "      <td>100.0</td>\n",
       "      <td>24%</td>\n",
       "    </tr>\n",
       "    <tr>\n",
       "      <th>6</th>\n",
       "      <td>12</td>\n",
       "      <td>2019-10-03 09:22:40.571392</td>\n",
       "      <td>2020-03-03 13:35:30.571392</td>\n",
       "      <td>152 days 04:12:50</td>\n",
       "      <td>24</td>\n",
       "      <td>100.0</td>\n",
       "      <td>24%</td>\n",
       "    </tr>\n",
       "    <tr>\n",
       "      <th>7</th>\n",
       "      <td>14</td>\n",
       "      <td>2019-07-14 10:38:51.571392</td>\n",
       "      <td>2020-02-29 01:21:59.571392</td>\n",
       "      <td>229 days 14:43:08</td>\n",
       "      <td>35</td>\n",
       "      <td>100.0</td>\n",
       "      <td>35%</td>\n",
       "    </tr>\n",
       "    <tr>\n",
       "      <th>8</th>\n",
       "      <td>16</td>\n",
       "      <td>2019-06-27 01:35:05.571392</td>\n",
       "      <td>2020-03-02 21:13:29.571392</td>\n",
       "      <td>249 days 19:38:24</td>\n",
       "      <td>38</td>\n",
       "      <td>100.0</td>\n",
       "      <td>38%</td>\n",
       "    </tr>\n",
       "    <tr>\n",
       "      <th>9</th>\n",
       "      <td>18</td>\n",
       "      <td>2019-10-03 09:21:49.571392</td>\n",
       "      <td>2020-03-04 14:41:14.571392</td>\n",
       "      <td>153 days 05:19:25</td>\n",
       "      <td>24</td>\n",
       "      <td>100.0</td>\n",
       "      <td>24%</td>\n",
       "    </tr>\n",
       "  </tbody>\n",
       "</table>\n",
       "</div>"
      ],
      "text/plain": [
       "   account_id               date_created                date_unlock  \\\n",
       "0           2 2019-11-06 05:49:39.571392 2020-02-24 02:00:21.571392   \n",
       "1           4 2019-12-11 03:18:53.571392 2020-02-25 04:28:59.571392   \n",
       "2           6 2019-09-29 13:04:45.571392 2020-02-20 18:54:47.571392   \n",
       "3           9 2019-10-10 12:49:10.571392 2020-03-04 07:45:50.571392   \n",
       "4          10 2019-12-15 03:38:31.571392 2020-02-21 15:48:49.571392   \n",
       "5          11 2019-09-22 00:50:52.571392 2020-02-22 10:21:48.571392   \n",
       "6          12 2019-10-03 09:22:40.571392 2020-03-03 13:35:30.571392   \n",
       "7          14 2019-07-14 10:38:51.571392 2020-02-29 01:21:59.571392   \n",
       "8          16 2019-06-27 01:35:05.571392 2020-03-02 21:13:29.571392   \n",
       "9          18 2019-10-03 09:21:49.571392 2020-03-04 14:41:14.571392   \n",
       "\n",
       "    time_difference  num_payments  max_num_payments pct_loan_term  \n",
       "0 109 days 20:10:42            18             100.0           18%  \n",
       "1  76 days 01:10:06            13             100.0           13%  \n",
       "2 144 days 05:50:02            23             100.0           23%  \n",
       "3 145 days 18:56:40            23             100.0           23%  \n",
       "4  68 days 12:10:18            12             100.0           12%  \n",
       "5 153 days 09:30:56            24             100.0           24%  \n",
       "6 152 days 04:12:50            24             100.0           24%  \n",
       "7 229 days 14:43:08            35             100.0           35%  \n",
       "8 249 days 19:38:24            38             100.0           38%  \n",
       "9 153 days 05:19:25            24             100.0           24%  "
      ]
     },
     "execution_count": 21,
     "metadata": {},
     "output_type": "execute_result"
    }
   ],
   "source": [
    "# Add calculated column\n",
    "created_unlocked['pct_loan_term'] = created_unlocked['num_payments']/created_unlocked['max_num_payments']\n",
    "\n",
    "# Format 'pct_loan_term' as a percentage\n",
    "created_unlocked['pct_loan_term'] = created_unlocked['pct_loan_term'].map(\"{:.0%}\".format)\n",
    "created_unlocked.head(10)"
   ]
  },
  {
   "cell_type": "code",
   "execution_count": null,
   "metadata": {},
   "outputs": [],
   "source": []
  }
 ],
 "metadata": {
  "kernelspec": {
   "display_name": "Python 3",
   "language": "python",
   "name": "python3"
  },
  "language_info": {
   "codemirror_mode": {
    "name": "ipython",
    "version": 3
   },
   "file_extension": ".py",
   "mimetype": "text/x-python",
   "name": "python",
   "nbconvert_exporter": "python",
   "pygments_lexer": "ipython3",
   "version": "3.7.3"
  }
 },
 "nbformat": 4,
 "nbformat_minor": 2
}
