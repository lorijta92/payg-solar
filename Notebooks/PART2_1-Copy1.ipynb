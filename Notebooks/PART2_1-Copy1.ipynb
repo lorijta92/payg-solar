{
 "cells": [
  {
   "cell_type": "code",
   "execution_count": 1,
   "metadata": {},
   "outputs": [],
   "source": [
    "import pandas as pd\n",
    "import matplotlib.pyplot as plt\n",
    "import numpy as np"
   ]
  },
  {
   "cell_type": "code",
   "execution_count": 2,
   "metadata": {},
   "outputs": [],
   "source": [
    "# Read in data\n",
    "accounts = pd.read_csv(\"../Resources/accounts.csv\")\n",
    "ast = pd.read_csv(\"../Resources/account_state_transitions.csv\")\n",
    "groups = pd.read_csv(\"../Resources/groups.csv\")\n",
    "payments = pd.read_csv(\"../Resources/payments.csv\")\n",
    "gpa = pd.read_csv(\"../Resources/group_product_associations.csv\")"
   ]
  },
  {
   "cell_type": "markdown",
   "metadata": {},
   "source": [
    "## How long does it typically take Account holders to repay the unlock price as a % of the nominal loan term?"
   ]
  },
  {
   "cell_type": "code",
   "execution_count": 3,
   "metadata": {},
   "outputs": [],
   "source": [
    "# Filter dataframes\n",
    "unlocked_df = ast[ast['to_state']=='UNLOCKED']\n",
    "created_df = ast[ast['from_state']=='CREATED']\n",
    "\n",
    "# Select ids of unlocked accounts (each row unique, but grabbing column = series, not list)\n",
    "unlocked_accounts = [account for account in unlocked_df['account_id']]"
   ]
  },
  {
   "cell_type": "code",
   "execution_count": 4,
   "metadata": {},
   "outputs": [],
   "source": [
    "# Merge and limit columns\n",
    "created_unlocked = pd.merge(left=unlocked_df,right=created_df,how=\"inner\",left_on='account_id',right_on='account_id')\n",
    "created_unlocked = created_unlocked[['account_id','started_when_y','started_when_x']]"
   ]
  },
  {
   "cell_type": "code",
   "execution_count": 5,
   "metadata": {},
   "outputs": [],
   "source": [
    "# Rename columns\n",
    "created_unlocked = created_unlocked.rename(columns={\n",
    "    'started_when_y':'date_created',\n",
    "    'started_when_x':'date_unlock'\n",
    "})\n",
    "\n",
    "# created_unlocked.head()"
   ]
  },
  {
   "cell_type": "code",
   "execution_count": 6,
   "metadata": {},
   "outputs": [],
   "source": [
    "# Convert to datetime\n",
    "created_unlocked['date_unlock'] = pd.to_datetime(created_unlocked['date_unlock'])\n",
    "created_unlocked['date_created'] = pd.to_datetime(created_unlocked['date_created'])"
   ]
  },
  {
   "cell_type": "code",
   "execution_count": 7,
   "metadata": {
    "scrolled": true
   },
   "outputs": [],
   "source": [
    "# Add calculated column\n",
    "created_unlocked['time_difference'] = created_unlocked['date_unlock'] - created_unlocked['date_created']\n",
    "# created_unlocked.head()"
   ]
  },
  {
   "cell_type": "code",
   "execution_count": 8,
   "metadata": {},
   "outputs": [],
   "source": [
    "# Count of payments\n",
    "payments_ct = payments.groupby('account_id', as_index=False)['id'].count()\n",
    "\n",
    "# Rename column\n",
    "payments_ct = payments_ct.rename(columns={'id':'num_payments'})\n",
    "# payments_ct.head()"
   ]
  },
  {
   "cell_type": "code",
   "execution_count": 9,
   "metadata": {},
   "outputs": [],
   "source": [
    "# Filter dataframe for 'unlocked' accounts\n",
    "payments_ct_unlocked = payments_ct[payments_ct['account_id'].isin(unlocked_accounts)]\n",
    "# payments_ct_unlocked.head()"
   ]
  },
  {
   "cell_type": "code",
   "execution_count": 10,
   "metadata": {},
   "outputs": [],
   "source": [
    "# Merge dataframes\n",
    "created_unlocked = pd.merge(left=created_unlocked,right=payments_ct_unlocked,how='outer',left_on='account_id',right_on='account_id')\n",
    "# created_unlocked.head()"
   ]
  },
  {
   "cell_type": "code",
   "execution_count": 11,
   "metadata": {},
   "outputs": [],
   "source": [
    "# Filter accounts dataframe by 'unlocked_accounts'\n",
    "accounts_filtered = accounts[accounts['id'].isin(unlocked_accounts)]\n",
    "# accounts_filtered.head()"
   ]
  },
  {
   "cell_type": "code",
   "execution_count": 12,
   "metadata": {},
   "outputs": [],
   "source": [
    "# Add calculated column to groups dataframe\n",
    "# \"loan term\" = number of payments to reach price_unlock if only paying the minimum amount\n",
    "groups['loan_term'] = (groups['price_unlock'] - groups['price_upfront']) / groups['minimum_payment']"
   ]
  },
  {
   "cell_type": "code",
   "execution_count": 13,
   "metadata": {},
   "outputs": [],
   "source": [
    "# Merge accounts_filtered with groups\n",
    "acct_group_merge = pd.merge(left=accounts_filtered, right=groups, how='outer',left_on='group_id',right_on='id')\n",
    "acct_group_merge = acct_group_merge[['id_x','group_id','loan_term']]\n",
    "acct_group_merge = acct_group_merge.rename(columns={'id_x':'account_id'})\n",
    "\n",
    "# Merge with gpa dataframe for product_id\n",
    "acct_group_merge = pd.merge(left=acct_group_merge,right=gpa,how='inner',left_on='group_id',right_on='group_id')\n",
    "acct_group_merge = acct_group_merge[['account_id','group_id','loan_term','product_id']]\n",
    "# acct_group_merge.head()"
   ]
  },
  {
   "cell_type": "code",
   "execution_count": 14,
   "metadata": {},
   "outputs": [],
   "source": [
    "# Merge 'created_unlocked' and 'acct_group_merge' dataframes\n",
    "pct_loan_term = pd.merge(left=created_unlocked, right=acct_group_merge,how='inner',left_on='account_id',right_on='account_id')\n",
    "\n",
    "# Reorder columns\n",
    "pct_loan_term = pct_loan_term[['account_id','date_created','date_unlock','time_difference','group_id','product_id','num_payments','loan_term']]\n",
    "# pct_loan_term.head()"
   ]
  },
  {
   "cell_type": "code",
   "execution_count": 15,
   "metadata": {},
   "outputs": [
    {
     "data": {
      "text/html": [
       "<div>\n",
       "<style scoped>\n",
       "    .dataframe tbody tr th:only-of-type {\n",
       "        vertical-align: middle;\n",
       "    }\n",
       "\n",
       "    .dataframe tbody tr th {\n",
       "        vertical-align: top;\n",
       "    }\n",
       "\n",
       "    .dataframe thead th {\n",
       "        text-align: right;\n",
       "    }\n",
       "</style>\n",
       "<table border=\"1\" class=\"dataframe\">\n",
       "  <thead>\n",
       "    <tr style=\"text-align: right;\">\n",
       "      <th></th>\n",
       "      <th>account_id</th>\n",
       "      <th>date_created</th>\n",
       "      <th>date_unlock</th>\n",
       "      <th>time_difference</th>\n",
       "      <th>group_id</th>\n",
       "      <th>product_id</th>\n",
       "      <th>num_payments</th>\n",
       "      <th>loan_term</th>\n",
       "      <th>pct_loan_term_%</th>\n",
       "    </tr>\n",
       "  </thead>\n",
       "  <tbody>\n",
       "    <tr>\n",
       "      <th>0</th>\n",
       "      <td>2</td>\n",
       "      <td>2019-11-06 05:49:39.571392</td>\n",
       "      <td>2020-02-24 02:00:21.571392</td>\n",
       "      <td>109 days 20:10:42</td>\n",
       "      <td>1</td>\n",
       "      <td>42</td>\n",
       "      <td>18</td>\n",
       "      <td>100.0</td>\n",
       "      <td>18.0</td>\n",
       "    </tr>\n",
       "    <tr>\n",
       "      <th>1</th>\n",
       "      <td>4</td>\n",
       "      <td>2019-12-11 03:18:53.571392</td>\n",
       "      <td>2020-02-25 04:28:59.571392</td>\n",
       "      <td>76 days 01:10:06</td>\n",
       "      <td>1</td>\n",
       "      <td>42</td>\n",
       "      <td>13</td>\n",
       "      <td>100.0</td>\n",
       "      <td>13.0</td>\n",
       "    </tr>\n",
       "    <tr>\n",
       "      <th>2</th>\n",
       "      <td>6</td>\n",
       "      <td>2019-09-29 13:04:45.571392</td>\n",
       "      <td>2020-02-20 18:54:47.571392</td>\n",
       "      <td>144 days 05:50:02</td>\n",
       "      <td>1</td>\n",
       "      <td>42</td>\n",
       "      <td>23</td>\n",
       "      <td>100.0</td>\n",
       "      <td>23.0</td>\n",
       "    </tr>\n",
       "    <tr>\n",
       "      <th>3</th>\n",
       "      <td>9</td>\n",
       "      <td>2019-10-10 12:49:10.571392</td>\n",
       "      <td>2020-03-04 07:45:50.571392</td>\n",
       "      <td>145 days 18:56:40</td>\n",
       "      <td>1</td>\n",
       "      <td>42</td>\n",
       "      <td>23</td>\n",
       "      <td>100.0</td>\n",
       "      <td>23.0</td>\n",
       "    </tr>\n",
       "    <tr>\n",
       "      <th>4</th>\n",
       "      <td>10</td>\n",
       "      <td>2019-12-15 03:38:31.571392</td>\n",
       "      <td>2020-02-21 15:48:49.571392</td>\n",
       "      <td>68 days 12:10:18</td>\n",
       "      <td>1</td>\n",
       "      <td>42</td>\n",
       "      <td>12</td>\n",
       "      <td>100.0</td>\n",
       "      <td>12.0</td>\n",
       "    </tr>\n",
       "  </tbody>\n",
       "</table>\n",
       "</div>"
      ],
      "text/plain": [
       "   account_id               date_created                date_unlock  \\\n",
       "0           2 2019-11-06 05:49:39.571392 2020-02-24 02:00:21.571392   \n",
       "1           4 2019-12-11 03:18:53.571392 2020-02-25 04:28:59.571392   \n",
       "2           6 2019-09-29 13:04:45.571392 2020-02-20 18:54:47.571392   \n",
       "3           9 2019-10-10 12:49:10.571392 2020-03-04 07:45:50.571392   \n",
       "4          10 2019-12-15 03:38:31.571392 2020-02-21 15:48:49.571392   \n",
       "\n",
       "    time_difference  group_id  product_id  num_payments  loan_term  \\\n",
       "0 109 days 20:10:42         1          42            18      100.0   \n",
       "1  76 days 01:10:06         1          42            13      100.0   \n",
       "2 144 days 05:50:02         1          42            23      100.0   \n",
       "3 145 days 18:56:40         1          42            23      100.0   \n",
       "4  68 days 12:10:18         1          42            12      100.0   \n",
       "\n",
       "   pct_loan_term_%  \n",
       "0             18.0  \n",
       "1             13.0  \n",
       "2             23.0  \n",
       "3             23.0  \n",
       "4             12.0  "
      ]
     },
     "execution_count": 15,
     "metadata": {},
     "output_type": "execute_result"
    }
   ],
   "source": [
    "# Add calculated column\n",
    "pct_loan_term['pct_loan_term_%'] = (pct_loan_term['num_payments']/pct_loan_term['loan_term'])*100\n",
    "\n",
    "# Format 'pct_loan_term' as a percentage\n",
    "# pct_loan_term['pct_loan_term'] = pct_loan_term['pct_loan_term'].map(\"{:.0%}\".format)\n",
    "pct_loan_term.head()"
   ]
  },
  {
   "cell_type": "markdown",
   "metadata": {},
   "source": [
    "## Visualize:•\tHow long does it typically take Account holders to repay the unlock price as a % of the nominal loan term?"
   ]
  },
  {
   "cell_type": "code",
   "execution_count": 16,
   "metadata": {
    "scrolled": true
   },
   "outputs": [],
   "source": [
    "# Select data to visualize\n",
    "data_viz = pct_loan_term.groupby('pct_loan_term_%', as_index=False)['account_id'].count()"
   ]
  },
  {
   "cell_type": "code",
   "execution_count": 17,
   "metadata": {},
   "outputs": [
    {
     "data": {
      "image/png": "[encoded data removed]",
      "text/plain": [
       "<Figure size 1440x360 with 1 Axes>"
      ]
     },
     "metadata": {
      "needs_background": "light"
     },
     "output_type": "display_data"
    }
   ],
   "source": [
    "# Create plot\n",
    "plt.figure(figsize=(20, 5))\n",
    "plt.bar(data_viz.iloc[:,0],data_viz.iloc[:,1])\n",
    "plt.title(\"Number of Accounts Unlocked as Percentage of Loan Term\")\n",
    "plt.xlabel(\"Percentage of Loan Term\")\n",
    "plt.xticks(rotation=45)\n",
    "plt.ylabel(\"Count of Unlocked Accounts\")\n",
    "plt.show()"
   ]
  },
  {
   "cell_type": "markdown",
   "metadata": {},
   "source": [
    "Most loans are bad back before 50% of the loan term"
   ]
  },
  {
   "cell_type": "markdown",
   "metadata": {},
   "source": [
    "### Average time to pay price_unlock for each product"
   ]
  },
  {
   "cell_type": "code",
   "execution_count": 18,
   "metadata": {},
   "outputs": [],
   "source": [
    "# Convert to seconds\n",
    "pct_loan_term['time_difference'] = pct_loan_term['time_difference'].dt.total_seconds()"
   ]
  },
  {
   "cell_type": "code",
   "execution_count": 19,
   "metadata": {},
   "outputs": [],
   "source": [
    "# Average time to pay price_unlock for each product\n",
    "product_mean_std = pct_loan_term.groupby('product_id', as_index=False).agg({'time_difference':['mean','std'],\n",
    "                                                                       'num_payments':['mean','std']})\n",
    "\n",
    "# Convert from seconds to days\n",
    "product_mean_std['time_difference'] = product_mean_std['time_difference']/86400"
   ]
  },
  {
   "cell_type": "code",
   "execution_count": 20,
   "metadata": {},
   "outputs": [
    {
     "data": {
      "text/html": [
       "<div>\n",
       "<style scoped>\n",
       "    .dataframe tbody tr th:only-of-type {\n",
       "        vertical-align: middle;\n",
       "    }\n",
       "\n",
       "    .dataframe tbody tr th {\n",
       "        vertical-align: top;\n",
       "    }\n",
       "\n",
       "    .dataframe thead tr th {\n",
       "        text-align: left;\n",
       "    }\n",
       "</style>\n",
       "<table border=\"1\" class=\"dataframe\">\n",
       "  <thead>\n",
       "    <tr>\n",
       "      <th></th>\n",
       "      <th>product_id</th>\n",
       "      <th colspan=\"2\" halign=\"left\">time_difference</th>\n",
       "      <th colspan=\"2\" halign=\"left\">num_payments</th>\n",
       "    </tr>\n",
       "    <tr>\n",
       "      <th></th>\n",
       "      <th></th>\n",
       "      <th>mean</th>\n",
       "      <th>std</th>\n",
       "      <th>mean</th>\n",
       "      <th>std</th>\n",
       "    </tr>\n",
       "  </thead>\n",
       "  <tbody>\n",
       "    <tr>\n",
       "      <th>0</th>\n",
       "      <td>1</td>\n",
       "      <td>113.796488</td>\n",
       "      <td>23.586681</td>\n",
       "      <td>18.428571</td>\n",
       "      <td>3.408672</td>\n",
       "    </tr>\n",
       "    <tr>\n",
       "      <th>1</th>\n",
       "      <td>2</td>\n",
       "      <td>79.830475</td>\n",
       "      <td>27.171405</td>\n",
       "      <td>13.000000</td>\n",
       "      <td>2.645751</td>\n",
       "    </tr>\n",
       "    <tr>\n",
       "      <th>2</th>\n",
       "      <td>3</td>\n",
       "      <td>178.599167</td>\n",
       "      <td>100.056051</td>\n",
       "      <td>27.750000</td>\n",
       "      <td>14.244882</td>\n",
       "    </tr>\n",
       "    <tr>\n",
       "      <th>3</th>\n",
       "      <td>4</td>\n",
       "      <td>114.088596</td>\n",
       "      <td>25.268208</td>\n",
       "      <td>18.142857</td>\n",
       "      <td>3.716117</td>\n",
       "    </tr>\n",
       "    <tr>\n",
       "      <th>4</th>\n",
       "      <td>5</td>\n",
       "      <td>127.180359</td>\n",
       "      <td>15.346760</td>\n",
       "      <td>19.750000</td>\n",
       "      <td>2.753785</td>\n",
       "    </tr>\n",
       "  </tbody>\n",
       "</table>\n",
       "</div>"
      ],
      "text/plain": [
       "  product_id time_difference             num_payments           \n",
       "                        mean         std         mean        std\n",
       "0          1      113.796488   23.586681    18.428571   3.408672\n",
       "1          2       79.830475   27.171405    13.000000   2.645751\n",
       "2          3      178.599167  100.056051    27.750000  14.244882\n",
       "3          4      114.088596   25.268208    18.142857   3.716117\n",
       "4          5      127.180359   15.346760    19.750000   2.753785"
      ]
     },
     "execution_count": 20,
     "metadata": {},
     "output_type": "execute_result"
    }
   ],
   "source": [
    "product_mean_std.head()"
   ]
  },
  {
   "cell_type": "code",
   "execution_count": 21,
   "metadata": {},
   "outputs": [],
   "source": [
    "# Flatten column headers\n",
    "product_mean_std.columns = ['_'.join(col) for col in product_mean_std.columns.values]\n",
    "\n",
    "# Rename product_id column\n",
    "product_mean_std = product_mean_std.rename(columns={'product_id_':'product_id'})"
   ]
  },
  {
   "cell_type": "code",
   "execution_count": 22,
   "metadata": {},
   "outputs": [
    {
     "data": {
      "text/html": [
       "<div>\n",
       "<style scoped>\n",
       "    .dataframe tbody tr th:only-of-type {\n",
       "        vertical-align: middle;\n",
       "    }\n",
       "\n",
       "    .dataframe tbody tr th {\n",
       "        vertical-align: top;\n",
       "    }\n",
       "\n",
       "    .dataframe thead th {\n",
       "        text-align: right;\n",
       "    }\n",
       "</style>\n",
       "<table border=\"1\" class=\"dataframe\">\n",
       "  <thead>\n",
       "    <tr style=\"text-align: right;\">\n",
       "      <th></th>\n",
       "      <th>product_id</th>\n",
       "      <th>time_difference_mean</th>\n",
       "      <th>time_difference_std</th>\n",
       "      <th>num_payments_mean</th>\n",
       "      <th>num_payments_std</th>\n",
       "    </tr>\n",
       "  </thead>\n",
       "  <tbody>\n",
       "    <tr>\n",
       "      <th>0</th>\n",
       "      <td>1</td>\n",
       "      <td>113.796488</td>\n",
       "      <td>23.586681</td>\n",
       "      <td>18.428571</td>\n",
       "      <td>3.408672</td>\n",
       "    </tr>\n",
       "    <tr>\n",
       "      <th>1</th>\n",
       "      <td>2</td>\n",
       "      <td>79.830475</td>\n",
       "      <td>27.171405</td>\n",
       "      <td>13.000000</td>\n",
       "      <td>2.645751</td>\n",
       "    </tr>\n",
       "    <tr>\n",
       "      <th>2</th>\n",
       "      <td>3</td>\n",
       "      <td>178.599167</td>\n",
       "      <td>100.056051</td>\n",
       "      <td>27.750000</td>\n",
       "      <td>14.244882</td>\n",
       "    </tr>\n",
       "    <tr>\n",
       "      <th>3</th>\n",
       "      <td>4</td>\n",
       "      <td>114.088596</td>\n",
       "      <td>25.268208</td>\n",
       "      <td>18.142857</td>\n",
       "      <td>3.716117</td>\n",
       "    </tr>\n",
       "    <tr>\n",
       "      <th>4</th>\n",
       "      <td>5</td>\n",
       "      <td>127.180359</td>\n",
       "      <td>15.346760</td>\n",
       "      <td>19.750000</td>\n",
       "      <td>2.753785</td>\n",
       "    </tr>\n",
       "  </tbody>\n",
       "</table>\n",
       "</div>"
      ],
      "text/plain": [
       "   product_id  time_difference_mean  time_difference_std  num_payments_mean  \\\n",
       "0           1            113.796488            23.586681          18.428571   \n",
       "1           2             79.830475            27.171405          13.000000   \n",
       "2           3            178.599167           100.056051          27.750000   \n",
       "3           4            114.088596            25.268208          18.142857   \n",
       "4           5            127.180359            15.346760          19.750000   \n",
       "\n",
       "   num_payments_std  \n",
       "0          3.408672  \n",
       "1          2.645751  \n",
       "2         14.244882  \n",
       "3          3.716117  \n",
       "4          2.753785  "
      ]
     },
     "execution_count": 22,
     "metadata": {},
     "output_type": "execute_result"
    }
   ],
   "source": [
    "product_mean_std.head()"
   ]
  },
  {
   "cell_type": "markdown",
   "metadata": {},
   "source": [
    "### Visualize: Average number of days to pay price_unlock for each product"
   ]
  },
  {
   "cell_type": "code",
   "execution_count": 32,
   "metadata": {},
   "outputs": [
    {
     "data": {
      "image/png": "[encoded data removed]",
      "text/plain": [
       "<Figure size 792x360 with 1 Axes>"
      ]
     },
     "metadata": {
      "needs_background": "light"
     },
     "output_type": "display_data"
    }
   ],
   "source": [
    "# Set chart values\n",
    "x_indexes = np.arange(len(product_mean_std['product_id']))\n",
    "y_means = product_mean_std['num_payments_mean']\n",
    "\n",
    "# Make figure\n",
    "plt.figure(figsize=(11,5))\n",
    "rect = plt.bar(x_indexes, y_means, width=0.5)\n",
    "\n",
    "# Format figure\n",
    "plt.xticks(ticks=range(0, len(x_indexes)),labels=product_mean_std['product_id'])\n",
    "plt.title('Average Number of Payments to Pay `price_unlock`')\n",
    "plt.xlabel('Product Id')\n",
    "plt.ylabel('Number of Payments')\n",
    "\n",
    "# Create function to label bars\n",
    "def label_bars(rects):\n",
    "    for rect in rects:\n",
    "        height = rect.get_height()\n",
    "        plt.text(rect.get_x() + rect.get_width()/2, height+0.5, round(height),\n",
    "                ha='center', va='bottom', color=\"black\")\n",
    "\n",
    "# Call function\n",
    "label_bars(rect)\n",
    "\n",
    "# Save figure\n",
    "# plt.savefig(\".png\")\n",
    "\n",
    "# Show figure\n",
    "plt.tight_layout()\n",
    "plt.show()"
   ]
  },
  {
   "cell_type": "code",
   "execution_count": null,
   "metadata": {},
   "outputs": [],
   "source": []
  }
 ],
 "metadata": {
  "kernelspec": {
   "display_name": "Python 3",
   "language": "python",
   "name": "python3"
  },
  "language_info": {
   "codemirror_mode": {
    "name": "ipython",
    "version": 3
   },
   "file_extension": ".py",
   "mimetype": "text/x-python",
   "name": "python",
   "nbconvert_exporter": "python",
   "pygments_lexer": "ipython3",
   "version": "3.7.3"
  }
 },
 "nbformat": 4,
 "nbformat_minor": 2
}
