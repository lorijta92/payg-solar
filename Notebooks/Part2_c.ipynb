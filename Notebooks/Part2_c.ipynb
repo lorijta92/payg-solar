{
 "cells": [
  {
   "cell_type": "markdown",
   "metadata": {},
   "source": [
    "### Percentage of loan paid for all accounts"
   ]
  },
  {
   "cell_type": "code",
   "execution_count": 1,
   "metadata": {},
   "outputs": [],
   "source": [
    "import pandas as pd\n",
    "import matplotlib.pyplot as plt"
   ]
  },
  {
   "cell_type": "code",
   "execution_count": 2,
   "metadata": {},
   "outputs": [],
   "source": [
    "# Read in data\n",
    "accounts = pd.read_csv(\"../Resources/accounts.csv\")\n",
    "groups = pd.read_csv(\"../Resources/groups.csv\")\n",
    "payments = pd.read_csv(\"../Resources/payments.csv\")"
   ]
  },
  {
   "cell_type": "code",
   "execution_count": 3,
   "metadata": {},
   "outputs": [],
   "source": [
    "# Sum payment amounts\n",
    "payments_ct = payments.groupby('account_id', as_index=False)['amount'].sum()\n",
    "\n",
    "# Rename column\n",
    "payments_ct = payments_ct.rename(columns={'id':'num_payments'})"
   ]
  },
  {
   "cell_type": "code",
   "execution_count": 4,
   "metadata": {},
   "outputs": [],
   "source": [
    "# Limit columns in accounts dataframe\n",
    "accounts = accounts[['id','group_id','is_written_off','is_unlocked']]"
   ]
  },
  {
   "cell_type": "code",
   "execution_count": 5,
   "metadata": {},
   "outputs": [],
   "source": [
    "# Merge payments and accounts dataframe\n",
    "merged_df = pd.merge(left=payments_ct,right=accounts,how='inner',left_on='account_id',right_on='id')"
   ]
  },
  {
   "cell_type": "code",
   "execution_count": 6,
   "metadata": {},
   "outputs": [],
   "source": [
    "# Drop column\n",
    "merged_df = merged_df.drop(columns=['id'])"
   ]
  },
  {
   "cell_type": "code",
   "execution_count": 7,
   "metadata": {},
   "outputs": [],
   "source": [
    "# Merge with groups dataframe\n",
    "merged_df = pd.merge(left=merged_df,right=groups,how='inner',left_on='group_id',right_on='id')"
   ]
  },
  {
   "cell_type": "code",
   "execution_count": 8,
   "metadata": {},
   "outputs": [],
   "source": [
    "# Limit columns\n",
    "merged_df = merged_df[['account_id','is_written_off','is_unlocked','amount','price_unlock']]"
   ]
  },
  {
   "cell_type": "code",
   "execution_count": 9,
   "metadata": {},
   "outputs": [],
   "source": [
    "# Rename column\n",
    "merged_df = merged_df.rename(columns={'amount':'amount_paid'})\n",
    "\n",
    "# Add column\n",
    "merged_df['pct_paid'] = round((merged_df['amount_paid']/merged_df['price_unlock']) * 100)"
   ]
  },
  {
   "cell_type": "code",
   "execution_count": 10,
   "metadata": {},
   "outputs": [
    {
     "data": {
      "text/html": [
       "<div>\n",
       "<style scoped>\n",
       "    .dataframe tbody tr th:only-of-type {\n",
       "        vertical-align: middle;\n",
       "    }\n",
       "\n",
       "    .dataframe tbody tr th {\n",
       "        vertical-align: top;\n",
       "    }\n",
       "\n",
       "    .dataframe thead th {\n",
       "        text-align: right;\n",
       "    }\n",
       "</style>\n",
       "<table border=\"1\" class=\"dataframe\">\n",
       "  <thead>\n",
       "    <tr style=\"text-align: right;\">\n",
       "      <th></th>\n",
       "      <th>account_id</th>\n",
       "      <th>is_written_off</th>\n",
       "      <th>is_unlocked</th>\n",
       "      <th>amount_paid</th>\n",
       "      <th>price_unlock</th>\n",
       "      <th>pct_paid</th>\n",
       "    </tr>\n",
       "  </thead>\n",
       "  <tbody>\n",
       "    <tr>\n",
       "      <th>0</th>\n",
       "      <td>1</td>\n",
       "      <td>False</td>\n",
       "      <td>False</td>\n",
       "      <td>1900</td>\n",
       "      <td>8100</td>\n",
       "      <td>23.0</td>\n",
       "    </tr>\n",
       "    <tr>\n",
       "      <th>1</th>\n",
       "      <td>2</td>\n",
       "      <td>False</td>\n",
       "      <td>True</td>\n",
       "      <td>8100</td>\n",
       "      <td>8100</td>\n",
       "      <td>100.0</td>\n",
       "    </tr>\n",
       "    <tr>\n",
       "      <th>2</th>\n",
       "      <td>3</td>\n",
       "      <td>False</td>\n",
       "      <td>False</td>\n",
       "      <td>7661</td>\n",
       "      <td>8100</td>\n",
       "      <td>95.0</td>\n",
       "    </tr>\n",
       "    <tr>\n",
       "      <th>3</th>\n",
       "      <td>4</td>\n",
       "      <td>False</td>\n",
       "      <td>True</td>\n",
       "      <td>8100</td>\n",
       "      <td>8100</td>\n",
       "      <td>100.0</td>\n",
       "    </tr>\n",
       "    <tr>\n",
       "      <th>4</th>\n",
       "      <td>5</td>\n",
       "      <td>False</td>\n",
       "      <td>False</td>\n",
       "      <td>6743</td>\n",
       "      <td>8100</td>\n",
       "      <td>83.0</td>\n",
       "    </tr>\n",
       "  </tbody>\n",
       "</table>\n",
       "</div>"
      ],
      "text/plain": [
       "   account_id  is_written_off  is_unlocked  amount_paid  price_unlock  \\\n",
       "0           1           False        False         1900          8100   \n",
       "1           2           False         True         8100          8100   \n",
       "2           3           False        False         7661          8100   \n",
       "3           4           False         True         8100          8100   \n",
       "4           5           False        False         6743          8100   \n",
       "\n",
       "   pct_paid  \n",
       "0      23.0  \n",
       "1     100.0  \n",
       "2      95.0  \n",
       "3     100.0  \n",
       "4      83.0  "
      ]
     },
     "execution_count": 10,
     "metadata": {},
     "output_type": "execute_result"
    }
   ],
   "source": [
    "merged_df.head()"
   ]
  },
  {
   "cell_type": "code",
   "execution_count": 11,
   "metadata": {},
   "outputs": [],
   "source": [
    "# Export to csv\n",
    "merged_df.to_csv('../Output/Part2/account_progress.csv',index=False)"
   ]
  },
  {
   "cell_type": "markdown",
   "metadata": {},
   "source": [
    "### Visualize status of ongoing accounts"
   ]
  },
  {
   "cell_type": "code",
   "execution_count": 12,
   "metadata": {},
   "outputs": [],
   "source": [
    "# Filter for 'ongoing' accounts\n",
    "merged_df = merged_df[(merged_df['pct_paid']>0)&(merged_df['pct_paid']<100)]"
   ]
  },
  {
   "cell_type": "code",
   "execution_count": 13,
   "metadata": {},
   "outputs": [],
   "source": [
    "# Group by percent paid\n",
    "merged_df_grouped = merged_df.groupby('pct_paid',as_index=False)['account_id'].count()"
   ]
  },
  {
   "cell_type": "code",
   "execution_count": 14,
   "metadata": {},
   "outputs": [
    {
     "data": {
      "image/png": "[encoded data removed]",
      "text/plain": [
       "<Figure size 864x432 with 1 Axes>"
      ]
     },
     "metadata": {
      "needs_background": "light"
     },
     "output_type": "display_data"
    }
   ],
   "source": [
    "# Set values\n",
    "x = merged_df_grouped['pct_paid']\n",
    "y = merged_df_grouped['account_id']\n",
    "\n",
    "# Create figure\n",
    "plt.figure(figsize=(12,6))\n",
    "rect = plt.bar(x, y, width=0.5, color=\"#ff9900\")\n",
    "\n",
    "# Label figure\n",
    "plt.title('Progress of Ongoing Accounts')\n",
    "plt.xlabel('Percentage of Loan Paid')\n",
    "plt.ylabel('Number of Accounts')\n",
    "\n",
    "# Create function to label bars\n",
    "def label_bars(rects):\n",
    "    for rect in rects:\n",
    "        height = rect.get_height()\n",
    "        plt.text(rect.get_x() + rect.get_width()/2, height+0.3, round(height),\n",
    "                ha='center', va='bottom', color=\"black\")\n",
    "\n",
    "# Call function\n",
    "label_bars(rect)\n",
    "\n",
    "# Save figure\n",
    "plt.savefig('../Output/Part2/progress_of_ongoing_accounts.png')\n",
    "\n",
    "# Show figure\n",
    "plt.tight_layout()\n",
    "plt.show()"
   ]
  },
  {
   "cell_type": "code",
   "execution_count": null,
   "metadata": {},
   "outputs": [],
   "source": []
  }
 ],
 "metadata": {
  "kernelspec": {
   "display_name": "Python 3",
   "language": "python",
   "name": "python3"
  },
  "language_info": {
   "codemirror_mode": {
    "name": "ipython",
    "version": 3
   },
   "file_extension": ".py",
   "mimetype": "text/x-python",
   "name": "python",
   "nbconvert_exporter": "python",
   "pygments_lexer": "ipython3",
   "version": "3.7.3"
  }
 },
 "nbformat": 4,
 "nbformat_minor": 2
}
