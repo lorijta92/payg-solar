{
 "cells": [
  {
   "cell_type": "markdown",
   "metadata": {},
   "source": [
    "Avg time between payments\n",
    "\n",
    "ORDER BY(account, payment date) -> time delta -> GROUP BY (account) AVG (time delta)"
   ]
  },
  {
   "cell_type": "code",
   "execution_count": 1,
   "metadata": {},
   "outputs": [],
   "source": [
    "import pandas as pd"
   ]
  },
  {
   "cell_type": "code",
   "execution_count": 18,
   "metadata": {},
   "outputs": [],
   "source": [
    "payments = pd.read_csv('../Resources/payments.csv')"
   ]
  },
  {
   "cell_type": "code",
   "execution_count": 19,
   "metadata": {},
   "outputs": [],
   "source": [
    "payments = payments.sort_values(['account_id','effective_when'])\n",
    "payments['effective_when'] = pd.to_datetime(payments['effective_when'])"
   ]
  },
  {
   "cell_type": "code",
   "execution_count": 20,
   "metadata": {},
   "outputs": [],
   "source": [
    "length = len(payments)"
   ]
  },
  {
   "cell_type": "code",
   "execution_count": 21,
   "metadata": {},
   "outputs": [],
   "source": [
    "timedelta = [payments['effective_when'][i+1]-payments['effective_when'][0+i] for i in range(0,len(payments)-1)]"
   ]
  },
  {
   "cell_type": "code",
   "execution_count": 22,
   "metadata": {},
   "outputs": [],
   "source": [
    "timedelta.insert(0,0)"
   ]
  },
  {
   "cell_type": "code",
   "execution_count": 42,
   "metadata": {},
   "outputs": [
    {
     "ename": "AttributeError",
     "evalue": "'list' object has no attribute 'total_seconds'",
     "output_type": "error",
     "traceback": [
      "\u001b[0;31m---------------------------------------------------------------------------\u001b[0m",
      "\u001b[0;31mAttributeError\u001b[0m                            Traceback (most recent call last)",
      "\u001b[0;32m<ipython-input-42-60c6f1e1f582>\u001b[0m in \u001b[0;36m<module>\u001b[0;34m\u001b[0m\n\u001b[0;32m----> 1\u001b[0;31m \u001b[0mpayments\u001b[0m\u001b[0;34m[\u001b[0m\u001b[0;34m'timedelta'\u001b[0m\u001b[0;34m]\u001b[0m \u001b[0;34m=\u001b[0m \u001b[0mtimedelta\u001b[0m\u001b[0;34m.\u001b[0m\u001b[0mtotal_seconds\u001b[0m\u001b[0;34m(\u001b[0m\u001b[0;34m)\u001b[0m\u001b[0;34m\u001b[0m\u001b[0;34m\u001b[0m\u001b[0m\n\u001b[0m",
      "\u001b[0;31mAttributeError\u001b[0m: 'list' object has no attribute 'total_seconds'"
     ]
    }
   ],
   "source": [
    "payments['timedelta'] = timedelta"
   ]
  },
  {
   "cell_type": "code",
   "execution_count": 26,
   "metadata": {},
   "outputs": [
    {
     "data": {
      "text/html": [
       "<div>\n",
       "<style scoped>\n",
       "    .dataframe tbody tr th:only-of-type {\n",
       "        vertical-align: middle;\n",
       "    }\n",
       "\n",
       "    .dataframe tbody tr th {\n",
       "        vertical-align: top;\n",
       "    }\n",
       "\n",
       "    .dataframe thead th {\n",
       "        text-align: right;\n",
       "    }\n",
       "</style>\n",
       "<table border=\"1\" class=\"dataframe\">\n",
       "  <thead>\n",
       "    <tr style=\"text-align: right;\">\n",
       "      <th></th>\n",
       "      <th>id</th>\n",
       "      <th>effective_when</th>\n",
       "      <th>account_id</th>\n",
       "      <th>currency</th>\n",
       "      <th>amount</th>\n",
       "      <th>timedelta</th>\n",
       "    </tr>\n",
       "  </thead>\n",
       "  <tbody>\n",
       "    <tr>\n",
       "      <th>9438</th>\n",
       "      <td>9439</td>\n",
       "      <td>2020-02-01 14:49:58.571392</td>\n",
       "      <td>772</td>\n",
       "      <td>KES</td>\n",
       "      <td>173</td>\n",
       "      <td>-9 days +08:37:19</td>\n",
       "    </tr>\n",
       "    <tr>\n",
       "      <th>9437</th>\n",
       "      <td>9438</td>\n",
       "      <td>2020-02-09 03:10:17.571392</td>\n",
       "      <td>772</td>\n",
       "      <td>KES</td>\n",
       "      <td>188</td>\n",
       "      <td>-5 days +11:28:45</td>\n",
       "    </tr>\n",
       "    <tr>\n",
       "      <th>9436</th>\n",
       "      <td>9437</td>\n",
       "      <td>2020-02-16 23:06:47.571392</td>\n",
       "      <td>772</td>\n",
       "      <td>KES</td>\n",
       "      <td>170</td>\n",
       "      <td>-10 days +21:59:22</td>\n",
       "    </tr>\n",
       "    <tr>\n",
       "      <th>9435</th>\n",
       "      <td>9436</td>\n",
       "      <td>2020-02-29 13:06:35.571392</td>\n",
       "      <td>772</td>\n",
       "      <td>KES</td>\n",
       "      <td>195</td>\n",
       "      <td>-6 days +22:44:11</td>\n",
       "    </tr>\n",
       "    <tr>\n",
       "      <th>9434</th>\n",
       "      <td>9435</td>\n",
       "      <td>2020-03-08 12:07:30.571392</td>\n",
       "      <td>772</td>\n",
       "      <td>KES</td>\n",
       "      <td>650</td>\n",
       "      <td>-7 days +01:08:09</td>\n",
       "    </tr>\n",
       "  </tbody>\n",
       "</table>\n",
       "</div>"
      ],
      "text/plain": [
       "        id             effective_when  account_id currency  amount  \\\n",
       "9438  9439 2020-02-01 14:49:58.571392         772      KES     173   \n",
       "9437  9438 2020-02-09 03:10:17.571392         772      KES     188   \n",
       "9436  9437 2020-02-16 23:06:47.571392         772      KES     170   \n",
       "9435  9436 2020-02-29 13:06:35.571392         772      KES     195   \n",
       "9434  9435 2020-03-08 12:07:30.571392         772      KES     650   \n",
       "\n",
       "               timedelta  \n",
       "9438   -9 days +08:37:19  \n",
       "9437   -5 days +11:28:45  \n",
       "9436  -10 days +21:59:22  \n",
       "9435   -6 days +22:44:11  \n",
       "9434   -7 days +01:08:09  "
      ]
     },
     "execution_count": 26,
     "metadata": {},
     "output_type": "execute_result"
    }
   ],
   "source": [
    "payments.tail()"
   ]
  },
  {
   "cell_type": "code",
   "execution_count": null,
   "metadata": {},
   "outputs": [],
   "source": []
  }
 ],
 "metadata": {
  "kernelspec": {
   "display_name": "Python 3",
   "language": "python",
   "name": "python3"
  },
  "language_info": {
   "codemirror_mode": {
    "name": "ipython",
    "version": 3
   },
   "file_extension": ".py",
   "mimetype": "text/x-python",
   "name": "python",
   "nbconvert_exporter": "python",
   "pygments_lexer": "ipython3",
   "version": "3.7.3"
  }
 },
 "nbformat": 4,
 "nbformat_minor": 2
}
